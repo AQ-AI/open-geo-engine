{
  "nbformat": 4,
  "nbformat_minor": 0,
  "metadata": {
    "accelerator": "GPU",
    "colab": {
      "name": "LinearModelUnicef v2 Stacking",
      "provenance": [],
      "collapsed_sections": []
    },
    "kernelspec": {
      "display_name": "Python 3",
      "name": "python3"
    }
  },
  "cells": [
    {
      "cell_type": "code",
      "metadata": {
        "id": "hEoqwMN701pR"
      },
      "source": [
        "import pandas as pd\n",
        "import numpy as np\n",
        "import datetime as datetime"
      ],
      "execution_count": null,
      "outputs": []
    },
    {
      "cell_type": "code",
      "metadata": {
        "id": "SYaIuU5i3j6Y"
      },
      "source": [
        "from sklearn.svm import SVR\n",
        "from sklearn.pipeline import make_pipeline\n",
        "from sklearn.preprocessing import StandardScaler\n",
        "from sklearn.model_selection import train_test_split\n",
        "from sklearn.compose import make_column_transformer\n",
        "from sklearn.preprocessing import OneHotEncoder\n",
        "from sklearn.metrics import median_absolute_error\n",
        "from sklearn.metrics import mean_squared_error\n",
        "from sklearn.model_selection import KFold\n",
        "import matplotlib.pyplot as plt\n",
        "\n",
        "%matplotlib inline\n",
        "\n",
        "import numpy as np"
      ],
      "execution_count": null,
      "outputs": []
    },
    {
      "cell_type": "code",
      "metadata": {
        "colab": {
          "base_uri": "https://localhost:8080/"
        },
        "id": "oA_6_d6TedQy",
        "outputId": "c4ecf985-92d1-4f40-965c-3d8dd8a9d793"
      },
      "source": [
        "!unzip model_data.zip"
      ],
      "execution_count": null,
      "outputs": [
        {
          "output_type": "stream",
          "text": [
            "Archive:  model_data.zip\n",
            "  inflating: oxford_lockdown_sensor_merged_2020.csv  \n",
            "  inflating: __MACOSX/._oxford_lockdown_sensor_merged_2020.csv  \n",
            "  inflating: final_2019_sensor_city_merged.csv  \n",
            "  inflating: __MACOSX/._final_2019_sensor_city_merged.csv  \n",
            "  inflating: final_2019_2020_sensor_city_merged.csv  \n",
            "  inflating: __MACOSX/._final_2019_2020_sensor_city_merged.csv  \n"
          ],
          "name": "stdout"
        }
      ]
    },
    {
      "cell_type": "code",
      "metadata": {
        "id": "b40HtmFQFVpz"
      },
      "source": [
        "df_final = pd.read_csv('final_2019_2020_sensor_city_merged.csv')"
      ],
      "execution_count": null,
      "outputs": []
    },
    {
      "cell_type": "code",
      "metadata": {
        "colab": {
          "base_uri": "https://localhost:8080/"
        },
        "id": "jdOwsTXee5uT",
        "outputId": "4de72c5a-6443-44c8-ef48-ce32cfbb2ff8"
      },
      "source": [
        "df_final.columns"
      ],
      "execution_count": null,
      "outputs": [
        {
          "output_type": "execute_result",
          "data": {
            "text/plain": [
              "Index(['week', 'timestamp', 'country', 'NAME_0', 'NAME_2', 'GID_0',\n",
              "       'POP_DEN_Sensor', 'AOD_Sensor', 'PRECIP_Sensor', 'NO2_Sensor',\n",
              "       'city_PRECIP', 'city_AOD', 'city_NO2', 'city_POP_DEN', 'PM2.5_Value',\n",
              "       'FID_Sensor', 'latitude_sensor', 'longitude_sensor', 'location',\n",
              "       'GID_2', 'NAME_1', 'TYPE_2', 'key_right', 'key_left_1', 'country_name',\n",
              "       'Week', 'population_count_2018', 'average_population_density',\n",
              "       'retail_and_recreation_percent_change_from_baseline',\n",
              "       'grocery_and_pharmacy_percent_change_from_baseline',\n",
              "       'parks_percent_change_from_baseline',\n",
              "       'transit_stations_percent_change_from_baseline',\n",
              "       'workplaces_percent_change_from_baseline',\n",
              "       'residential_percent_change_from_baseline', 'workplace_closure',\n",
              "       'restrictions_internal_movement', 'stay_at_home_requirements',\n",
              "       'gini_coefficient', 'key_right_1', 'week_1', 'week_2', 'week_final',\n",
              "       'key_lockdown_left'],\n",
              "      dtype='object')"
            ]
          },
          "metadata": {
            "tags": []
          },
          "execution_count": 5
        }
      ]
    },
    {
      "cell_type": "code",
      "metadata": {
        "id": "eifn0pZLfCwS"
      },
      "source": [
        "drop_col = ['timestamp', 'country', 'NAME_0', 'NAME_2', 'GID_0',\n",
        "       'location',\n",
        "       'GID_2', 'NAME_1', 'TYPE_2', 'key_right', 'key_left_1', 'country_name',\n",
        "       'Week', 'population_count_2018','retail_and_recreation_percent_change_from_baseline',\n",
        "       'grocery_and_pharmacy_percent_change_from_baseline',\n",
        "       'parks_percent_change_from_baseline',\n",
        "       'transit_stations_percent_change_from_baseline',\n",
        "       'workplaces_percent_change_from_baseline',\n",
        "       'residential_percent_change_from_baseline', 'workplace_closure',\n",
        "       'restrictions_internal_movement', 'stay_at_home_requirements',\n",
        "       'gini_coefficient', 'key_right_1', 'week_1', 'week_2', 'week_final',\n",
        "       'key_lockdown_left']"
      ],
      "execution_count": null,
      "outputs": []
    },
    {
      "cell_type": "code",
      "metadata": {
        "id": "cYjP5dCUgdoN"
      },
      "source": [
        "features1 = ['C1_School closing_0.0', 'C1_School closing_1.0',\n",
        "       'C1_School closing_2.0', 'C1_School closing_3.0', 'C1_Flag_0.0',\n",
        "       'C1_Flag_1.0', 'C2_Workplace closing_0.0', 'C2_Workplace closing_1.0',\n",
        "       'C2_Workplace closing_2.0', 'C2_Workplace closing_3.0', 'C2_Flag_0.0',\n",
        "       'C2_Flag_1.0', 'C3_Cancel public events_0.0',\n",
        "       'C3_Cancel public events_1.0', 'C3_Cancel public events_2.0',\n",
        "       'C3_Flag_0.0', 'C3_Flag_1.0', 'C4_Restrictions on gatherings_0.0',\n",
        "       'C4_Restrictions on gatherings_1.0',\n",
        "       'C4_Restrictions on gatherings_2.0',\n",
        "       'C4_Restrictions on gatherings_3.0',\n",
        "       'C4_Restrictions on gatherings_4.0', 'C4_Flag_0.0', 'C4_Flag_1.0',\n",
        "       'C5_Close public transport_0.0', 'C5_Close public transport_1.0',\n",
        "       'C5_Close public transport_2.0', 'C5_Flag_0.0', 'C5_Flag_1.0',\n",
        "       'C6_Stay at home requirements_0.0', 'C6_Stay at home requirements_1.0',\n",
        "       'C6_Stay at home requirements_2.0', 'C6_Stay at home requirements_3.0',\n",
        "       'C6_Flag_0.0', 'C6_Flag_1.0',\n",
        "       'C7_Restrictions on internal movement_0.0',\n",
        "       'C7_Restrictions on internal movement_1.0',\n",
        "       'C7_Restrictions on internal movement_2.0', 'C7_Flag_0.0',\n",
        "       'C7_Flag_1.0', 'C8_International travel controls_0.0',\n",
        "       'C8_International travel controls_1.0',\n",
        "       'C8_International travel controls_2.0',\n",
        "       'C8_International travel controls_3.0',\n",
        "       'C8_International travel controls_4.0']"
      ],
      "execution_count": null,
      "outputs": []
    },
    {
      "cell_type": "code",
      "metadata": {
        "id": "CO8eI2XthP4M"
      },
      "source": [
        "df_final.drop(columns=drop_col, inplace=True )"
      ],
      "execution_count": null,
      "outputs": []
    },
    {
      "cell_type": "code",
      "metadata": {
        "colab": {
          "base_uri": "https://localhost:8080/"
        },
        "id": "9HOounr3GHBC",
        "outputId": "9a4afda6-e0d5-4ae7-905d-2e7858213c7a"
      },
      "source": [
        "# df_final[df_final['NO2'].isna()==True]\n",
        "len(df_final)"
      ],
      "execution_count": null,
      "outputs": [
        {
          "output_type": "execute_result",
          "data": {
            "text/plain": [
              "85689"
            ]
          },
          "metadata": {
            "tags": []
          },
          "execution_count": 9
        }
      ]
    },
    {
      "cell_type": "code",
      "metadata": {
        "colab": {
          "base_uri": "https://localhost:8080/",
          "height": 394
        },
        "id": "_W6gmn6Uq5VL",
        "outputId": "cf51d651-36f3-4bc6-8cf7-b9d807bce902"
      },
      "source": [
        "df_final.head()"
      ],
      "execution_count": null,
      "outputs": [
        {
          "output_type": "execute_result",
          "data": {
            "text/html": [
              "<div>\n",
              "<style scoped>\n",
              "    .dataframe tbody tr th:only-of-type {\n",
              "        vertical-align: middle;\n",
              "    }\n",
              "\n",
              "    .dataframe tbody tr th {\n",
              "        vertical-align: top;\n",
              "    }\n",
              "\n",
              "    .dataframe thead th {\n",
              "        text-align: right;\n",
              "    }\n",
              "</style>\n",
              "<table border=\"1\" class=\"dataframe\">\n",
              "  <thead>\n",
              "    <tr style=\"text-align: right;\">\n",
              "      <th></th>\n",
              "      <th>week</th>\n",
              "      <th>POP_DEN_Sensor</th>\n",
              "      <th>AOD_Sensor</th>\n",
              "      <th>PRECIP_Sensor</th>\n",
              "      <th>NO2_Sensor</th>\n",
              "      <th>city_PRECIP</th>\n",
              "      <th>city_AOD</th>\n",
              "      <th>city_NO2</th>\n",
              "      <th>city_POP_DEN</th>\n",
              "      <th>PM2.5_Value</th>\n",
              "      <th>FID_Sensor</th>\n",
              "      <th>latitude_sensor</th>\n",
              "      <th>longitude_sensor</th>\n",
              "      <th>average_population_density</th>\n",
              "    </tr>\n",
              "  </thead>\n",
              "  <tbody>\n",
              "    <tr>\n",
              "      <th>0</th>\n",
              "      <td>2019-01-01_2019-01-08</td>\n",
              "      <td>3.069481</td>\n",
              "      <td>91.403274</td>\n",
              "      <td>0.000731</td>\n",
              "      <td>0.000032</td>\n",
              "      <td>0.009027</td>\n",
              "      <td>71.006598</td>\n",
              "      <td>0.000020</td>\n",
              "      <td>0.988135</td>\n",
              "      <td>2.659339</td>\n",
              "      <td>0</td>\n",
              "      <td>-53.1583</td>\n",
              "      <td>-70.9215</td>\n",
              "      <td>26.833029</td>\n",
              "    </tr>\n",
              "    <tr>\n",
              "      <th>1</th>\n",
              "      <td>2019-01-08_2019-01-15</td>\n",
              "      <td>3.069481</td>\n",
              "      <td>81.134797</td>\n",
              "      <td>0.013004</td>\n",
              "      <td>0.000030</td>\n",
              "      <td>0.013793</td>\n",
              "      <td>57.205753</td>\n",
              "      <td>0.000019</td>\n",
              "      <td>0.988135</td>\n",
              "      <td>3.685536</td>\n",
              "      <td>0</td>\n",
              "      <td>-53.1583</td>\n",
              "      <td>-70.9215</td>\n",
              "      <td>26.833029</td>\n",
              "    </tr>\n",
              "    <tr>\n",
              "      <th>2</th>\n",
              "      <td>2019-01-15_2019-01-22</td>\n",
              "      <td>3.069481</td>\n",
              "      <td>84.063368</td>\n",
              "      <td>0.008275</td>\n",
              "      <td>0.000031</td>\n",
              "      <td>0.010815</td>\n",
              "      <td>68.477023</td>\n",
              "      <td>0.000019</td>\n",
              "      <td>0.988135</td>\n",
              "      <td>4.602024</td>\n",
              "      <td>0</td>\n",
              "      <td>-53.1583</td>\n",
              "      <td>-70.9215</td>\n",
              "      <td>26.833029</td>\n",
              "    </tr>\n",
              "    <tr>\n",
              "      <th>3</th>\n",
              "      <td>2019-01-22_2019-01-29</td>\n",
              "      <td>3.069481</td>\n",
              "      <td>75.492799</td>\n",
              "      <td>0.000000</td>\n",
              "      <td>0.000031</td>\n",
              "      <td>0.017925</td>\n",
              "      <td>63.187801</td>\n",
              "      <td>0.000019</td>\n",
              "      <td>0.988135</td>\n",
              "      <td>3.607738</td>\n",
              "      <td>0</td>\n",
              "      <td>-53.1583</td>\n",
              "      <td>-70.9215</td>\n",
              "      <td>26.833029</td>\n",
              "    </tr>\n",
              "    <tr>\n",
              "      <th>4</th>\n",
              "      <td>2019-01-29_2019-02-05</td>\n",
              "      <td>3.069481</td>\n",
              "      <td>51.459077</td>\n",
              "      <td>0.000137</td>\n",
              "      <td>0.000031</td>\n",
              "      <td>0.007730</td>\n",
              "      <td>28.059073</td>\n",
              "      <td>0.000019</td>\n",
              "      <td>0.988135</td>\n",
              "      <td>3.467605</td>\n",
              "      <td>0</td>\n",
              "      <td>-53.1583</td>\n",
              "      <td>-70.9215</td>\n",
              "      <td>26.833029</td>\n",
              "    </tr>\n",
              "  </tbody>\n",
              "</table>\n",
              "</div>"
            ],
            "text/plain": [
              "                    week  ...  average_population_density\n",
              "0  2019-01-01_2019-01-08  ...                   26.833029\n",
              "1  2019-01-08_2019-01-15  ...                   26.833029\n",
              "2  2019-01-15_2019-01-22  ...                   26.833029\n",
              "3  2019-01-22_2019-01-29  ...                   26.833029\n",
              "4  2019-01-29_2019-02-05  ...                   26.833029\n",
              "\n",
              "[5 rows x 14 columns]"
            ]
          },
          "metadata": {
            "tags": []
          },
          "execution_count": 10
        }
      ]
    },
    {
      "cell_type": "code",
      "metadata": {
        "id": "BGpwXvjVGHL4"
      },
      "source": [
        "dff = df_final.dropna()"
      ],
      "execution_count": null,
      "outputs": []
    },
    {
      "cell_type": "code",
      "metadata": {
        "colab": {
          "base_uri": "https://localhost:8080/"
        },
        "id": "FisBysOqiR1j",
        "outputId": "fd6d5f63-def1-475e-daa1-8570123ba5a7"
      },
      "source": [
        "dff.columns\n",
        "len(dff)"
      ],
      "execution_count": null,
      "outputs": [
        {
          "output_type": "execute_result",
          "data": {
            "text/plain": [
              "80991"
            ]
          },
          "metadata": {
            "tags": []
          },
          "execution_count": 12
        }
      ]
    },
    {
      "cell_type": "code",
      "metadata": {
        "id": "HSTD7w90GHfl"
      },
      "source": [
        "# df_final = df_final.fillna(0)"
      ],
      "execution_count": null,
      "outputs": []
    },
    {
      "cell_type": "code",
      "metadata": {
        "id": "ce90R9GE3nJj"
      },
      "source": [
        "y = dff[['PM2.5_Value','FID_Sensor']]\n",
        "X = dff[['POP_DEN_Sensor', 'AOD_Sensor', 'PRECIP_Sensor', 'NO2_Sensor',\n",
        "       'city_PRECIP', 'city_AOD', 'city_NO2', 'city_POP_DEN',\n",
        "       'FID_Sensor']]\n",
        "      #  'average_population_density', 'week', 'latitude_sensor', 'longitude_sensor']]\n",
        "      #   'C1_School closing_0.0',\n",
        "      #  'C1_School closing_1.0', 'C1_School closing_2.0',\n",
        "      #  'C1_School closing_3.0', 'C1_Flag_0.0', 'C1_Flag_1.0',\n",
        "      #  'C2_Workplace closing_0.0', 'C2_Workplace closing_1.0',\n",
        "      #  'C2_Workplace closing_2.0', 'C2_Workplace closing_3.0', 'C2_Flag_0.0',\n",
        "      #  'C2_Flag_1.0', 'C3_Cancel public events_0.0',\n",
        "      #  'C3_Cancel public events_1.0', 'C3_Cancel public events_2.0',\n",
        "      #  'C3_Flag_0.0', 'C3_Flag_1.0', 'C4_Restrictions on gatherings_0.0',\n",
        "      #  'C4_Restrictions on gatherings_1.0',\n",
        "      #  'C4_Restrictions on gatherings_2.0',\n",
        "      #  'C4_Restrictions on gatherings_3.0',\n",
        "      #  'C4_Restrictions on gatherings_4.0', 'C4_Flag_0.0', 'C4_Flag_1.0',\n",
        "      #  'C5_Close public transport_0.0', 'C5_Close public transport_1.0',\n",
        "      #  'C5_Close public transport_2.0', 'C5_Flag_0.0', 'C5_Flag_1.0',\n",
        "      #  'C6_Stay at home requirements_0.0', 'C6_Stay at home requirements_1.0',\n",
        "      #  'C6_Stay at home requirements_2.0', 'C6_Stay at home requirements_3.0',\n",
        "      #  'C6_Flag_0.0', 'C6_Flag_1.0',\n",
        "      #  'C7_Restrictions on internal movement_0.0',\n",
        "      #  'C7_Restrictions on internal movement_1.0',\n",
        "      #  'C7_Restrictions on internal movement_2.0', 'C7_Flag_0.0',\n",
        "      #  'C7_Flag_1.0', 'C8_International travel controls_0.0',\n",
        "      #  'C8_International travel controls_1.0',\n",
        "      #  'C8_International travel controls_2.0',\n",
        "      #  'C8_International travel controls_3.0',\n",
        "      #  'C8_International travel controls_4.0']]\n",
        "      #  'grocery_and_pharmacy_percent_change_from_baseline',\n",
        "      #  'parks_percent_change_from_baseline',\n",
        "      #  'transit_stations_percent_change_from_baseline',\n",
        "      #  'workplaces_percent_change_from_baseline',\n",
        "      #  'residential_percent_change_from_baseline', 'workplace_closure',\n",
        "      #  'restrictions_internal_movement', 'stay_at_home_requirements',"
      ],
      "execution_count": null,
      "outputs": []
    },
    {
      "cell_type": "code",
      "metadata": {
        "id": "OUOzn4aqTjkR"
      },
      "source": [
        "import random \n",
        "def Rand(start, end, num): \n",
        "    res = []\n",
        "    random.seed(42)   \n",
        "    for j in range(num): \n",
        "        res.append(random.randint(start, end)) \n",
        "  \n",
        "    return res \n",
        "list_fid= Rand(0,1600,200)"
      ],
      "execution_count": null,
      "outputs": []
    },
    {
      "cell_type": "code",
      "metadata": {
        "id": "j3Un1fJvEkC9"
      },
      "source": [
        "FID_list = [i for i in range(1600)]"
      ],
      "execution_count": null,
      "outputs": []
    },
    {
      "cell_type": "code",
      "metadata": {
        "colab": {
          "base_uri": "https://localhost:8080/"
        },
        "id": "q1xwUhxeFoQN",
        "outputId": "9b01b433-cc36-48e9-abf5-908d08afdba0"
      },
      "source": [
        "l3 = [x for x in list_fid if x not in FID_list]\n",
        "l3"
      ],
      "execution_count": null,
      "outputs": [
        {
          "output_type": "execute_result",
          "data": {
            "text/plain": [
              "[]"
            ]
          },
          "metadata": {
            "tags": []
          },
          "execution_count": 17
        }
      ]
    },
    {
      "cell_type": "code",
      "metadata": {
        "colab": {
          "base_uri": "https://localhost:8080/"
        },
        "id": "mOm5Mx_F3qhs",
        "outputId": "604a1646-e470-4896-bdec-74f85afdcd9e"
      },
      "source": [
        "X.columns\n",
        "y_test = y[y.FID_Sensor.isin(list_fid)]\n",
        "X_test = X[X.FID_Sensor.isin(list_fid)]\n",
        "y_train =y[~y.FID_Sensor.isin(list_fid)]\n",
        "X_train = X[~X.FID_Sensor.isin(list_fid)]\n",
        "len(X_train),len(X_test)"
      ],
      "execution_count": null,
      "outputs": [
        {
          "output_type": "execute_result",
          "data": {
            "text/plain": [
              "(71263, 9728)"
            ]
          },
          "metadata": {
            "tags": []
          },
          "execution_count": 18
        }
      ]
    },
    {
      "cell_type": "code",
      "metadata": {
        "id": "IxziBtb4x38q"
      },
      "source": [
        "#y_train = y_train[['PM2.5_Value','FID_Sensor']]\n",
        "X_train = X_train[['POP_DEN_Sensor', 'AOD_Sensor', 'PRECIP_Sensor', 'NO2_Sensor',\n",
        "       'city_PRECIP', 'city_AOD', 'city_NO2', 'city_POP_DEN',\n",
        "       'FID_Sensor']]"
      ],
      "execution_count": null,
      "outputs": []
    },
    {
      "cell_type": "code",
      "metadata": {
        "id": "HP6gLWBDVDJp"
      },
      "source": [
        "X_test=X_test.drop(columns='FID_Sensor').reset_index(drop=True)\n",
        "X_train=X_train.drop(columns='FID_Sensor').reset_index(drop=True)\n",
        "y_test=y_test.drop(columns='FID_Sensor').reset_index(drop=True)\n",
        "y_train=y_train.drop(columns='FID_Sensor').reset_index(drop=True)"
      ],
      "execution_count": null,
      "outputs": []
    },
    {
      "cell_type": "code",
      "metadata": {
        "id": "HBYav1sN4UU6"
      },
      "source": [
        "##Split for Training & Test Sets\n",
        "#X_train, X_test, y_train, y_test = train_test_split(X, y, test_size=0.30,stratify= 'FID_Sensor')"
      ],
      "execution_count": null,
      "outputs": []
    },
    {
      "cell_type": "code",
      "metadata": {
        "colab": {
          "base_uri": "https://localhost:8080/"
        },
        "id": "ScOLlEurXRyJ",
        "outputId": "8bb50b52-7969-44f3-ddae-bd0132a58b16"
      },
      "source": [
        "print(X_train.shape)\n",
        "print(y_train.shape)\n",
        "print(X_test.shape)\n",
        "print(y_test.shape)"
      ],
      "execution_count": null,
      "outputs": [
        {
          "output_type": "stream",
          "text": [
            "(71263, 8)\n",
            "(71263, 1)\n",
            "(9728, 8)\n",
            "(9728, 1)\n"
          ],
          "name": "stdout"
        }
      ]
    },
    {
      "cell_type": "code",
      "metadata": {
        "id": "PsIpyJKY33T5"
      },
      "source": [
        "# regr = make_pipeline(StandardScaler(), XGB(C=1.0, epsilon=0.2))\n",
        "# regr.fit(X_train, y_train)"
      ],
      "execution_count": null,
      "outputs": []
    },
    {
      "cell_type": "code",
      "metadata": {
        "colab": {
          "base_uri": "https://localhost:8080/",
          "height": 122
        },
        "id": "0pz-8GSSZVMQ",
        "outputId": "f0ccadf5-1dee-4712-c325-b75577954d9d"
      },
      "source": [
        "from xgboost.sklearn import XGBRegressor\n",
        "import datetime\n",
        "from sklearn.model_selection import GridSearchCV\n",
        "\n",
        "xgb1 = XGBRegressor()\n",
        "parameters = {'nthread':[4], #when use hyperthread, xgboost may become slower\n",
        "              'objective':['reg:linear'],\n",
        "              'learning_rate': [.03, 0.05, .07], #so called `eta` value\n",
        "              'max_depth': [5, 6, 7],\n",
        "              'min_child_weight': [4],\n",
        "              'silent': [1],\n",
        "              'subsample': [0.7],\n",
        "              'colsample_bytree': [0.7],\n",
        "              'n_estimators': [500],\n",
        "              'seed': [42]}\n",
        "# parameters = {'colsample_bytree': 0.7, 'learning_rate': 0.03, 'max_depth': 7, \n",
        "#               'min_child_weight': 4, 'n_estimators': 500, 'nthread': 4, \n",
        "#               'objective': 'reg:linear', 'silent': 1, 'subsample': 0.7}\n",
        "\n",
        "xgb_grid = GridSearchCV(xgb1,\n",
        "                        parameters,\n",
        "                        cv = 2,\n",
        "                        n_jobs = 5,\n",
        "                        verbose=True)\n",
        "xgb_grid.fit(X_train,\n",
        "         y_train)\n",
        "\n",
        "print(xgb_grid.best_score_)\n",
        "print(xgb_grid.best_params_)"
      ],
      "execution_count": null,
      "outputs": [
        {
          "output_type": "stream",
          "text": [
            "Fitting 2 folds for each of 9 candidates, totalling 18 fits\n"
          ],
          "name": "stdout"
        },
        {
          "output_type": "stream",
          "text": [
            "[Parallel(n_jobs=5)]: Using backend LokyBackend with 5 concurrent workers.\n",
            "[Parallel(n_jobs=5)]: Done  18 out of  18 | elapsed:  4.1min finished\n"
          ],
          "name": "stderr"
        },
        {
          "output_type": "stream",
          "text": [
            "0.27414520790646607\n",
            "{'colsample_bytree': 0.7, 'learning_rate': 0.03, 'max_depth': 6, 'min_child_weight': 4, 'n_estimators': 500, 'nthread': 4, 'objective': 'reg:linear', 'seed': 42, 'silent': 1, 'subsample': 0.7}\n"
          ],
          "name": "stdout"
        }
      ]
    },
    {
      "cell_type": "code",
      "metadata": {
        "colab": {
          "base_uri": "https://localhost:8080/"
        },
        "id": "MpLIDLbnZBqQ",
        "outputId": "abdfa0a0-eb0f-47cf-a133-54d7bb98e914"
      },
      "source": [
        "regr = make_pipeline(StandardScaler(), XGBRegressor( \n",
        "       colsample_bytree=0.7, learning_rate=0.05, \n",
        "       max_depth=6, min_child_weight=4,  n_estimators=500,\n",
        "    nthread=4, objective='reg:linear', seed= 42,\n",
        "       reg_alpha=0, reg_lambda=1, \n",
        "       silent=True, subsample=0.7))\n",
        "regr.fit(X_train, y_train)"
      ],
      "execution_count": null,
      "outputs": [
        {
          "output_type": "execute_result",
          "data": {
            "text/plain": [
              "Pipeline(memory=None,\n",
              "         steps=[('standardscaler',\n",
              "                 StandardScaler(copy=True, with_mean=True, with_std=True)),\n",
              "                ('xgbregressor',\n",
              "                 XGBRegressor(base_score=0.5, booster='gbtree',\n",
              "                              colsample_bylevel=1, colsample_bynode=1,\n",
              "                              colsample_bytree=0.7, gamma=0,\n",
              "                              importance_type='gain', learning_rate=0.05,\n",
              "                              max_delta_step=0, max_depth=6, min_child_weight=4,\n",
              "                              missing=None, n_estimators=500, n_jobs=1,\n",
              "                              nthread=4, objective='reg:linear', random_state=0,\n",
              "                              reg_alpha=0, reg_lambda=1, scale_pos_weight=1,\n",
              "                              seed=42, silent=True, subsample=0.7,\n",
              "                              verbosity=1))],\n",
              "         verbose=False)"
            ]
          },
          "metadata": {
            "tags": []
          },
          "execution_count": 28
        }
      ]
    },
    {
      "cell_type": "code",
      "metadata": {
        "id": "Ipyt_G2Qc0e8"
      },
      "source": [
        "# XGBRegressor.fea\n",
        "xgb = XGBRegressor()\n",
        "lgbm = LGBMRegressor()\n",
        "rf = RandomForestRegressor()\n",
        "ridge = Ridge()\n",
        "lasso = Lasso()\n",
        "svr = SVR(kernel='linear')"
      ],
      "execution_count": null,
      "outputs": []
    },
    {
      "cell_type": "code",
      "metadata": {
        "colab": {
          "base_uri": "https://localhost:8080/",
          "height": 395
        },
        "id": "LWoRYdIO-jnz",
        "outputId": "a1d33962-d18b-438c-a4f8-d01e5c8c6d82"
      },
      "source": [
        "regr = make_pipeline(StandardScaler(), svr)\n",
        "regr.fit(X_train, y_train)"
      ],
      "execution_count": null,
      "outputs": [
        {
          "output_type": "stream",
          "text": [
            "/usr/local/lib/python3.6/dist-packages/sklearn/utils/validation.py:760: DataConversionWarning: A column-vector y was passed when a 1d array was expected. Please change the shape of y to (n_samples, ), for example using ravel().\n",
            "  y = column_or_1d(y, warn=True)\n"
          ],
          "name": "stderr"
        },
        {
          "output_type": "error",
          "ename": "KeyboardInterrupt",
          "evalue": "ignored",
          "traceback": [
            "\u001b[0;31m---------------------------------------------------------------------------\u001b[0m",
            "\u001b[0;31mKeyboardInterrupt\u001b[0m                         Traceback (most recent call last)",
            "\u001b[0;32m<ipython-input-65-653a80e62351>\u001b[0m in \u001b[0;36m<module>\u001b[0;34m()\u001b[0m\n\u001b[1;32m      1\u001b[0m \u001b[0mregr\u001b[0m \u001b[0;34m=\u001b[0m \u001b[0mmake_pipeline\u001b[0m\u001b[0;34m(\u001b[0m\u001b[0mStandardScaler\u001b[0m\u001b[0;34m(\u001b[0m\u001b[0;34m)\u001b[0m\u001b[0;34m,\u001b[0m \u001b[0msvr\u001b[0m\u001b[0;34m)\u001b[0m\u001b[0;34m\u001b[0m\u001b[0;34m\u001b[0m\u001b[0m\n\u001b[0;32m----> 2\u001b[0;31m \u001b[0mregr\u001b[0m\u001b[0;34m.\u001b[0m\u001b[0mfit\u001b[0m\u001b[0;34m(\u001b[0m\u001b[0mX_train\u001b[0m\u001b[0;34m,\u001b[0m \u001b[0my_train\u001b[0m\u001b[0;34m)\u001b[0m\u001b[0;34m\u001b[0m\u001b[0;34m\u001b[0m\u001b[0m\n\u001b[0m",
            "\u001b[0;32m/usr/local/lib/python3.6/dist-packages/sklearn/pipeline.py\u001b[0m in \u001b[0;36mfit\u001b[0;34m(self, X, y, **fit_params)\u001b[0m\n\u001b[1;32m    352\u001b[0m                                  self._log_message(len(self.steps) - 1)):\n\u001b[1;32m    353\u001b[0m             \u001b[0;32mif\u001b[0m \u001b[0mself\u001b[0m\u001b[0;34m.\u001b[0m\u001b[0m_final_estimator\u001b[0m \u001b[0;34m!=\u001b[0m \u001b[0;34m'passthrough'\u001b[0m\u001b[0;34m:\u001b[0m\u001b[0;34m\u001b[0m\u001b[0;34m\u001b[0m\u001b[0m\n\u001b[0;32m--> 354\u001b[0;31m                 \u001b[0mself\u001b[0m\u001b[0;34m.\u001b[0m\u001b[0m_final_estimator\u001b[0m\u001b[0;34m.\u001b[0m\u001b[0mfit\u001b[0m\u001b[0;34m(\u001b[0m\u001b[0mXt\u001b[0m\u001b[0;34m,\u001b[0m \u001b[0my\u001b[0m\u001b[0;34m,\u001b[0m \u001b[0;34m**\u001b[0m\u001b[0mfit_params\u001b[0m\u001b[0;34m)\u001b[0m\u001b[0;34m\u001b[0m\u001b[0;34m\u001b[0m\u001b[0m\n\u001b[0m\u001b[1;32m    355\u001b[0m         \u001b[0;32mreturn\u001b[0m \u001b[0mself\u001b[0m\u001b[0;34m\u001b[0m\u001b[0;34m\u001b[0m\u001b[0m\n\u001b[1;32m    356\u001b[0m \u001b[0;34m\u001b[0m\u001b[0m\n",
            "\u001b[0;32m/usr/local/lib/python3.6/dist-packages/sklearn/svm/_base.py\u001b[0m in \u001b[0;36mfit\u001b[0;34m(self, X, y, sample_weight)\u001b[0m\n\u001b[1;32m    197\u001b[0m \u001b[0;34m\u001b[0m\u001b[0m\n\u001b[1;32m    198\u001b[0m         \u001b[0mseed\u001b[0m \u001b[0;34m=\u001b[0m \u001b[0mrnd\u001b[0m\u001b[0;34m.\u001b[0m\u001b[0mrandint\u001b[0m\u001b[0;34m(\u001b[0m\u001b[0mnp\u001b[0m\u001b[0;34m.\u001b[0m\u001b[0miinfo\u001b[0m\u001b[0;34m(\u001b[0m\u001b[0;34m'i'\u001b[0m\u001b[0;34m)\u001b[0m\u001b[0;34m.\u001b[0m\u001b[0mmax\u001b[0m\u001b[0;34m)\u001b[0m\u001b[0;34m\u001b[0m\u001b[0;34m\u001b[0m\u001b[0m\n\u001b[0;32m--> 199\u001b[0;31m         \u001b[0mfit\u001b[0m\u001b[0;34m(\u001b[0m\u001b[0mX\u001b[0m\u001b[0;34m,\u001b[0m \u001b[0my\u001b[0m\u001b[0;34m,\u001b[0m \u001b[0msample_weight\u001b[0m\u001b[0;34m,\u001b[0m \u001b[0msolver_type\u001b[0m\u001b[0;34m,\u001b[0m \u001b[0mkernel\u001b[0m\u001b[0;34m,\u001b[0m \u001b[0mrandom_seed\u001b[0m\u001b[0;34m=\u001b[0m\u001b[0mseed\u001b[0m\u001b[0;34m)\u001b[0m\u001b[0;34m\u001b[0m\u001b[0;34m\u001b[0m\u001b[0m\n\u001b[0m\u001b[1;32m    200\u001b[0m         \u001b[0;31m# see comment on the other call to np.iinfo in this file\u001b[0m\u001b[0;34m\u001b[0m\u001b[0;34m\u001b[0m\u001b[0;34m\u001b[0m\u001b[0m\n\u001b[1;32m    201\u001b[0m \u001b[0;34m\u001b[0m\u001b[0m\n",
            "\u001b[0;32m/usr/local/lib/python3.6/dist-packages/sklearn/svm/_base.py\u001b[0m in \u001b[0;36m_dense_fit\u001b[0;34m(self, X, y, sample_weight, solver_type, kernel, random_seed)\u001b[0m\n\u001b[1;32m    256\u001b[0m                 \u001b[0mcache_size\u001b[0m\u001b[0;34m=\u001b[0m\u001b[0mself\u001b[0m\u001b[0;34m.\u001b[0m\u001b[0mcache_size\u001b[0m\u001b[0;34m,\u001b[0m \u001b[0mcoef0\u001b[0m\u001b[0;34m=\u001b[0m\u001b[0mself\u001b[0m\u001b[0;34m.\u001b[0m\u001b[0mcoef0\u001b[0m\u001b[0;34m,\u001b[0m\u001b[0;34m\u001b[0m\u001b[0;34m\u001b[0m\u001b[0m\n\u001b[1;32m    257\u001b[0m                 \u001b[0mgamma\u001b[0m\u001b[0;34m=\u001b[0m\u001b[0mself\u001b[0m\u001b[0;34m.\u001b[0m\u001b[0m_gamma\u001b[0m\u001b[0;34m,\u001b[0m \u001b[0mepsilon\u001b[0m\u001b[0;34m=\u001b[0m\u001b[0mself\u001b[0m\u001b[0;34m.\u001b[0m\u001b[0mepsilon\u001b[0m\u001b[0;34m,\u001b[0m\u001b[0;34m\u001b[0m\u001b[0;34m\u001b[0m\u001b[0m\n\u001b[0;32m--> 258\u001b[0;31m                 max_iter=self.max_iter, random_seed=random_seed)\n\u001b[0m\u001b[1;32m    259\u001b[0m \u001b[0;34m\u001b[0m\u001b[0m\n\u001b[1;32m    260\u001b[0m         \u001b[0mself\u001b[0m\u001b[0;34m.\u001b[0m\u001b[0m_warn_from_fit_status\u001b[0m\u001b[0;34m(\u001b[0m\u001b[0;34m)\u001b[0m\u001b[0;34m\u001b[0m\u001b[0;34m\u001b[0m\u001b[0m\n",
            "\u001b[0;31mKeyboardInterrupt\u001b[0m: "
          ]
        }
      ]
    },
    {
      "cell_type": "code",
      "metadata": {
        "id": "iDU67oPL4EvF"
      },
      "source": [
        "y_pred = regr.predict(X_test)"
      ],
      "execution_count": null,
      "outputs": []
    },
    {
      "cell_type": "code",
      "metadata": {
        "id": "AiYXFmXobkpX"
      },
      "source": [
        "#Useless for the time being\n",
        "# y_pred = xgb1.predict(X_test)\n",
        "# parameters = {'colsample_bytree': 0.7, 'learning_rate': 0.03, 'max_depth': 7, \n",
        "#               'min_child_weight': 4, 'n_estimators': 500, 'nthread': 4, \n",
        "#               'objective': 'reg:linear', 'silent': 1, 'subsample': 0.7}"
      ],
      "execution_count": null,
      "outputs": []
    },
    {
      "cell_type": "code",
      "metadata": {
        "id": "JeKyID0h76U3"
      },
      "source": [
        "y_pred = regr.predict(X_test)\n",
        "mae = median_absolute_error(y_test, y_pred)\n",
        "print(mae)\n",
        "mse = mean_squared_error(y_test, y_pred, squared=False)\n",
        "print(mse)\n",
        "\n",
        "# string_score += f'\\nMAE on testing set: {mae:.2f} $/hour'\n",
        "# fig, ax = plt.subplots(figsize=(5, 5))\n",
        "# plt.scatter(y_test, y_pred)\n",
        "# ax.plot([0, 1], [0, 1], transform=ax.transAxes, ls=\"--\", c=\"red\")\n",
        "# plt.title('Initial Tria')\n",
        "# plt.ylabel('Model predictions')\n",
        "# plt.xlabel('Truths')\n",
        "# plt.xlim([0, 27])\n",
        "# _ = plt.ylim([0, 27])\n",
        "#3.590260009765302\n",
        "#20.11628485611695\n",
        "#Spatial - test -> 4.892884264967508, 26.933846863789856"
      ],
      "execution_count": null,
      "outputs": []
    },
    {
      "cell_type": "code",
      "metadata": {
        "id": "LntFoVNe0G3v"
      },
      "source": [
        "from sklearn.metrics import r2_score\n",
        "r2_score(y_test,y_pred)"
      ],
      "execution_count": null,
      "outputs": []
    },
    {
      "cell_type": "code",
      "metadata": {
        "colab": {
          "base_uri": "https://localhost:8080/"
        },
        "id": "v6w-i7jC8Tc4",
        "outputId": "f0f07b1a-c8be-41cb-8fe7-35006cf19195"
      },
      "source": [
        "import sklearn\n",
        "print(sklearn.__version__)"
      ],
      "execution_count": null,
      "outputs": [
        {
          "output_type": "stream",
          "text": [
            "0.22.2.post1\n"
          ],
          "name": "stdout"
        }
      ]
    },
    {
      "cell_type": "code",
      "metadata": {
        "colab": {
          "base_uri": "https://localhost:8080/",
          "height": 153
        },
        "id": "63JVkbucd5_F",
        "outputId": "5fea8a0b-ab14-4e94-a644-aea01bc7345f"
      },
      "source": [
        "importance = model.coef_\n",
        "importance"
      ],
      "execution_count": null,
      "outputs": [
        {
          "output_type": "execute_result",
          "data": {
            "text/plain": [
              "array([[ 1.55530058e-03,  2.30054772e-02, -1.59338854e+01,\n",
              "         2.48141021e+05, -2.34711215e+01,  5.48798482e-02,\n",
              "         3.13015895e+04,  1.59441599e-03,  2.02691160e-02,\n",
              "        -6.82460635e-03],\n",
              "       [-3.49428008e-16, -3.33066907e-16,  1.20494243e-12,\n",
              "         1.09765356e-09, -1.06349270e-14,  2.87096735e-16,\n",
              "         5.45492626e-10,  1.11022302e-16, -3.46944695e-16,\n",
              "         1.00000000e+00]])"
            ]
          },
          "metadata": {
            "tags": []
          },
          "execution_count": 109
        }
      ]
    },
    {
      "cell_type": "code",
      "metadata": {
        "id": "mWpPDzYIB4A0"
      },
      "source": [
        "from sklearn.datasets import make_regression\n",
        "from sklearn.linear_model import LinearRegression\n",
        "from matplotlib import pyplot\n",
        "# define the model\n",
        "# model = LinearRegression()\n",
        "# # fit the model\n",
        "# model.fit(X, y)\n",
        "# get importance\n",
        "#importance = xgb1.coef_\n",
        "# summarize feature importance\n",
        "for i,v in enumerate(importance):\n",
        "\tprint('Feature: %0d, Score: %.5f' % (i,v))\n",
        "# plot feature importance\n",
        "pyplot.bar([x for x in range(len(importance))], importance)\n",
        "pyplot.show()"
      ],
      "execution_count": null,
      "outputs": []
    },
    {
      "cell_type": "code",
      "metadata": {
        "id": "90NcT_wsCBoa"
      },
      "source": [
        "X=X.drop(columns='FID_Sensor')\n",
        "y=y.drop(columns='FID_Sensor')"
      ],
      "execution_count": null,
      "outputs": []
    },
    {
      "cell_type": "code",
      "metadata": {
        "colab": {
          "base_uri": "https://localhost:8080/",
          "height": 418
        },
        "id": "eaRcfynzCVZU",
        "outputId": "213367bf-1760-406b-cd61-e022439cca54"
      },
      "source": [
        "from sklearn.tree import DecisionTreeRegressor\n",
        "# define the model\n",
        "model = DecisionTreeRegressor()\n",
        "# fit the model\n",
        "model.fit(X, y)\n",
        "# get importance\n",
        "importance = model.feature_importances_\n",
        "# summarize feature importance\n",
        "for i,v in enumerate(importance):\n",
        "\tprint('Feature: %s %0d, Score: %.5f' % (X.columns[i],i,v))\n",
        "# plot feature importance\n",
        "pyplot.bar([x for x in range(len(importance))], importance)\n",
        "pyplot.show()"
      ],
      "execution_count": null,
      "outputs": [
        {
          "output_type": "stream",
          "text": [
            "Feature: 0, Score: 0.05797\n",
            "Feature: 1, Score: 0.25045\n",
            "Feature: 2, Score: 0.05829\n",
            "Feature: 3, Score: 0.16509\n",
            "Feature: 4, Score: 0.10531\n",
            "Feature: 5, Score: 0.11683\n",
            "Feature: 6, Score: 0.07425\n",
            "Feature: 7, Score: 0.06414\n",
            "Feature: 8, Score: 0.10768\n"
          ],
          "name": "stdout"
        },
        {
          "output_type": "display_data",
          "data": {
            "image/png": "[encoded data removed]",
            "text/plain": [
              "<Figure size 432x288 with 1 Axes>"
            ]
          },
          "metadata": {
            "tags": []
          }
        }
      ]
    },
    {
      "cell_type": "code",
      "metadata": {
        "colab": {
          "base_uri": "https://localhost:8080/",
          "height": 472
        },
        "id": "-8DgLe7VDH6S",
        "outputId": "0840fe07-7438-4ea8-b41a-9c1c4edca809"
      },
      "source": [
        "from sklearn.ensemble import RandomForestRegressor\n",
        "from matplotlib import pyplot\n",
        "# define the model\n",
        "model = RandomForestRegressor()\n",
        "# fit the model\n",
        "model.fit(X, y)\n",
        "# get importance\n",
        "importance = model.feature_importances_\n",
        "# summarize feature importance\n",
        "for i,v in enumerate(importance):\n",
        "\tprint('Feature: %s %0d, Score: %.5f' % (X_train.columns[i],i,v))\n",
        "# plot feature importance\n",
        "pyplot.bar([x for x in range(len(importance))], importance)\n",
        "pyplot.show()"
      ],
      "execution_count": null,
      "outputs": [
        {
          "output_type": "stream",
          "text": [
            "/usr/local/lib/python3.6/dist-packages/ipykernel_launcher.py:6: DataConversionWarning: A column-vector y was passed when a 1d array was expected. Please change the shape of y to (n_samples,), for example using ravel().\n",
            "  \n"
          ],
          "name": "stderr"
        },
        {
          "output_type": "stream",
          "text": [
            "Feature: POP_DEN_Sensor 0, Score: 0.07057\n",
            "Feature: AOD_Sensor 1, Score: 0.25408\n",
            "Feature: PRECIP_Sensor 2, Score: 0.06069\n",
            "Feature: NO2_Sensor 3, Score: 0.16946\n",
            "Feature: city_PRECIP 4, Score: 0.10611\n",
            "Feature: city_AOD 5, Score: 0.11008\n",
            "Feature: city_NO2 6, Score: 0.07214\n",
            "Feature: city_POP_DEN 7, Score: 0.06356\n",
            "Feature: average_population_density 8, Score: 0.09332\n"
          ],
          "name": "stdout"
        },
        {
          "output_type": "display_data",
          "data": {
            "image/png": "[encoded data removed]",
            "text/plain": [
              "<Figure size 432x288 with 1 Axes>"
            ]
          },
          "metadata": {
            "tags": []
          }
        }
      ]
    },
    {
      "cell_type": "code",
      "metadata": {
        "id": "uj41BRQnDtZI"
      },
      "source": [
        "# from sklearn.ensemble import RandomForestClassifier\n",
        "# from matplotlib import pyplot\n",
        "# # define the model\n",
        "# model = RandomForestClassifier()\n",
        "# # fit the model\n",
        "# model.fit(X, y)\n",
        "# # get importance\n",
        "# importance = model.feature_importances_\n",
        "# # summarize feature importance\n",
        "# for i,v in enumerate(importance):\n",
        "# \tprint('Feature: %0d, Score: %.5f' % (i,v))\n",
        "# # plot feature importance\n",
        "# pyplot.bar([x for x in range(len(importance))], importance)\n",
        "# pyplot.show()"
      ],
      "execution_count": null,
      "outputs": []
    },
    {
      "cell_type": "code",
      "metadata": {
        "colab": {
          "base_uri": "https://localhost:8080/",
          "height": 418
        },
        "id": "Ych9l741D-Bw",
        "outputId": "c1c065f1-6506-4909-a8d5-23475b5c9a92"
      },
      "source": [
        "# xgboost for feature importance on a regression problem\n",
        "from xgboost import XGBRegressor\n",
        "from matplotlib import pyplot\n",
        "# define dataset\n",
        "# define the model\n",
        "model = XGBRegressor( \n",
        "       colsample_bytree=0.7, learning_rate=0.05, \n",
        "       max_depth=6, min_child_weight=4,  n_estimators=500,\n",
        "    nthread=4, objective='reg:linear', seed= 42,\n",
        "       reg_alpha=0, reg_lambda=1, \n",
        "       silent=True, subsample=0.7)\n",
        "# fit the model\n",
        "model.fit(X_train, y_train)\n",
        "# get importance\n",
        "importance = model.feature_importances_\n",
        "# summarize feature importance\n",
        "for i,v in enumerate(importance):\n",
        "\tprint('Feature: %s %0d, Score: %.5f' % (X_train.columns[i],i,v))\n",
        "# plot feature importance\n",
        "pyplot.bar([x for x in range(len(importance))], importance)\n",
        "pyplot.show()"
      ],
      "execution_count": null,
      "outputs": [
        {
          "output_type": "stream",
          "text": [
            "Feature: POP_DEN_Sensor 0, Score: 0.06130\n",
            "Feature: AOD_Sensor 1, Score: 0.19291\n",
            "Feature: PRECIP_Sensor 2, Score: 0.06687\n",
            "Feature: NO2_Sensor 3, Score: 0.11511\n",
            "Feature: city_PRECIP 4, Score: 0.08778\n",
            "Feature: city_AOD 5, Score: 0.08527\n",
            "Feature: city_NO2 6, Score: 0.06350\n",
            "Feature: city_POP_DEN 7, Score: 0.05665\n",
            "Feature: average_population_density 8, Score: 0.27061\n"
          ],
          "name": "stdout"
        },
        {
          "output_type": "display_data",
          "data": {
            "image/png": "[encoded data removed]",
            "text/plain": [
              "<Figure size 432x288 with 1 Axes>"
            ]
          },
          "metadata": {
            "tags": []
          }
        }
      ]
    },
    {
      "cell_type": "code",
      "metadata": {
        "colab": {
          "base_uri": "https://localhost:8080/",
          "height": 418
        },
        "id": "OBfQ3MkVFDIv",
        "outputId": "3d7f962d-fa96-487f-b64b-4e67060273cb"
      },
      "source": [
        "# permutation feature importance with knn for regression\n",
        "from sklearn.neighbors import KNeighborsRegressor\n",
        "from sklearn.inspection import permutation_importance\n",
        "from matplotlib import pyplot\n",
        "# define dataset\n",
        "# define the model\n",
        "model = KNeighborsRegressor()\n",
        "# fit the model\n",
        "model.fit(X, y)\n",
        "# perform permutation importance\n",
        "results = permutation_importance(model, X, y, scoring='neg_mean_squared_error')\n",
        "# get importance\n",
        "importance = results.importances_mean\n",
        "# summarize feature importance\n",
        "for i,v in enumerate(importance):\n",
        "\tprint('Feature: %0d, Score: %.5f' % (i,v))\n",
        "# plot feature importance\n",
        "pyplot.bar([x for x in range(len(importance))], importance)\n",
        "pyplot.show()"
      ],
      "execution_count": null,
      "outputs": [
        {
          "output_type": "stream",
          "text": [
            "Feature: 0, Score: 545.72653\n",
            "Feature: 1, Score: 337.30359\n",
            "Feature: 2, Score: 0.63377\n",
            "Feature: 3, Score: 0.10547\n",
            "Feature: 4, Score: 0.59314\n",
            "Feature: 5, Score: 248.95527\n",
            "Feature: 6, Score: 0.07508\n",
            "Feature: 7, Score: 377.84674\n",
            "Feature: 8, Score: 258.63453\n"
          ],
          "name": "stdout"
        },
        {
          "output_type": "display_data",
          "data": {
            "image/png": "[encoded data removed]",
            "text/plain": [
              "<Figure size 432x288 with 1 Axes>"
            ]
          },
          "metadata": {
            "tags": []
          }
        }
      ]
    },
    {
      "cell_type": "code",
      "metadata": {
        "id": "H2-MBoPHFSCu"
      },
      "source": [
        "# import pandas as pd\n",
        "# fin = pd.read_csv('final_merged.csv')\n",
        "# df1 = fin.fillna(method='ffill')\n",
        "# fin = df1.fillna(0)"
      ],
      "execution_count": null,
      "outputs": []
    },
    {
      "cell_type": "code",
      "metadata": {
        "id": "qU9QVSJDbHus"
      },
      "source": [
        "# y = fin['value']\n",
        "# X = fin[['POP_DEN', 'AOD', 'PRECIP', 'NO2']]\n",
        "# X.dtypes"
      ],
      "execution_count": null,
      "outputs": []
    },
    {
      "cell_type": "code",
      "metadata": {
        "id": "ULqx7_D6i1w0"
      },
      "source": [
        "#not used\n",
        "n_folds = 2\n",
        "\n",
        "# def rmsle_cv(model):\n",
        "#     kf = KFold(n_folds, shuffle=True, random_state=42).get_n_splits(X_train.values)\n",
        "#     rmse= np.sqrt(-cross_val_score(model, X_train.values, y_train, scoring=\"neg_mean_squared_error\", cv = kf))\n",
        "#     return(rmse)\n",
        "def Stacking(model,train,y,test,n_fold):\n",
        "  folds=KFold(n_folds, shuffle=True, random_state=42).get_n_splits(X_train.values)\n",
        "  test_pred=np.empty((test.shape[0],1),float)\n",
        "  train_pred=np.empty((0,1),float)\n",
        "  for train_indices,val_indices in folds.split(train,y.values):\n",
        "    x_train,x_val=train.iloc[train_indices],train.iloc[val_indices]\n",
        "    y_train,y_val=y.iloc[train_indices],y.iloc[val_indices]\n",
        "\n",
        "    model.fit(X=x_train,y=y_train)\n",
        "    train_pred=np.append(train_pred,model.predict(x_val))\n",
        "    test_pred=np.append(test_pred,model.predict(test))\n",
        "  return test_pred.reshape(-1,1),train_pred\n",
        "\n",
        "\n",
        "# def Stacking(model,train,y,test,n_fold):\n",
        "#   folds=KFold(n_splits=n_fold)\n",
        "#   test_pred=np.empty((test.shape[0],1),float)\n",
        "#   train_pred=np.empty((0,1),float)\n",
        "#   for train_indices,val_indices in folds.split(train,y.values):\n",
        "#     x_train,x_val=train.iloc[train_indices],train.iloc[val_indices]\n",
        "#     y_train,y_val=y.iloc[train_indices],y.iloc[val_indices]\n",
        "\n",
        "#     model.fit(X=x_train,y=y_train)\n",
        "#     train_pred=np.append(train_pred,model.predict(x_val))\n",
        "#     test_pred=np.append(test_pred,model.predict(test))\n",
        "#   return test_pred.reshape(-1,1),train_pred"
      ],
      "execution_count": null,
      "outputs": []
    },
    {
      "cell_type": "code",
      "metadata": {
        "colab": {
          "base_uri": "https://localhost:8080/",
          "height": 351
        },
        "id": "LJl4DcQT5Wxn",
        "outputId": "24eba72e-c4dc-41cb-8dc5-eb3519188b77"
      },
      "source": [
        "from xgboost import XGBRegressor\n",
        "model1 = XGBRegressor( \n",
        "          colsample_bytree=0.7, learning_rate=0.05, \n",
        "          max_depth=6, min_child_weight=4,  n_estimators=500,\n",
        "          nthread=4, objective='reg:linear', seed= 42,\n",
        "          reg_alpha=0, reg_lambda=1, \n",
        "          silent=True, subsample=0.7)\n",
        "\n",
        "test_pred1 ,train_pred1=Stacking(model=model1,n_fold=5, train=X_train,test=X_test,y=y_train)\n",
        "\n",
        "train_pred1=pd.DataFrame(train_pred1)\n",
        "test_pred1=pd.DataFrame(test_pred1)"
      ],
      "execution_count": null,
      "outputs": [
        {
          "output_type": "error",
          "ename": "AttributeError",
          "evalue": "ignored",
          "traceback": [
            "\u001b[0;31m---------------------------------------------------------------------------\u001b[0m",
            "\u001b[0;31mAttributeError\u001b[0m                            Traceback (most recent call last)",
            "\u001b[0;32m<ipython-input-33-038e2c56f516>\u001b[0m in \u001b[0;36m<module>\u001b[0;34m()\u001b[0m\n\u001b[1;32m      7\u001b[0m           silent=True, subsample=0.7)\n\u001b[1;32m      8\u001b[0m \u001b[0;34m\u001b[0m\u001b[0m\n\u001b[0;32m----> 9\u001b[0;31m \u001b[0mtest_pred1\u001b[0m \u001b[0;34m,\u001b[0m\u001b[0mtrain_pred1\u001b[0m\u001b[0;34m=\u001b[0m\u001b[0mStacking\u001b[0m\u001b[0;34m(\u001b[0m\u001b[0mmodel\u001b[0m\u001b[0;34m=\u001b[0m\u001b[0mmodel1\u001b[0m\u001b[0;34m,\u001b[0m\u001b[0mn_fold\u001b[0m\u001b[0;34m=\u001b[0m\u001b[0;36m5\u001b[0m\u001b[0;34m,\u001b[0m \u001b[0mtrain\u001b[0m\u001b[0;34m=\u001b[0m\u001b[0mX_train\u001b[0m\u001b[0;34m,\u001b[0m\u001b[0mtest\u001b[0m\u001b[0;34m=\u001b[0m\u001b[0mX_test\u001b[0m\u001b[0;34m,\u001b[0m\u001b[0my\u001b[0m\u001b[0;34m=\u001b[0m\u001b[0my_train\u001b[0m\u001b[0;34m)\u001b[0m\u001b[0;34m\u001b[0m\u001b[0;34m\u001b[0m\u001b[0m\n\u001b[0m\u001b[1;32m     10\u001b[0m \u001b[0;34m\u001b[0m\u001b[0m\n\u001b[1;32m     11\u001b[0m \u001b[0mtrain_pred1\u001b[0m\u001b[0;34m=\u001b[0m\u001b[0mpd\u001b[0m\u001b[0;34m.\u001b[0m\u001b[0mDataFrame\u001b[0m\u001b[0;34m(\u001b[0m\u001b[0mtrain_pred1\u001b[0m\u001b[0;34m)\u001b[0m\u001b[0;34m\u001b[0m\u001b[0;34m\u001b[0m\u001b[0m\n",
            "\u001b[0;32m<ipython-input-31-10efb0e0f84a>\u001b[0m in \u001b[0;36mStacking\u001b[0;34m(model, train, y, test, n_fold)\u001b[0m\n\u001b[1;32m      9\u001b[0m   \u001b[0mtest_pred\u001b[0m\u001b[0;34m=\u001b[0m\u001b[0mnp\u001b[0m\u001b[0;34m.\u001b[0m\u001b[0mempty\u001b[0m\u001b[0;34m(\u001b[0m\u001b[0;34m(\u001b[0m\u001b[0mtest\u001b[0m\u001b[0;34m.\u001b[0m\u001b[0mshape\u001b[0m\u001b[0;34m[\u001b[0m\u001b[0;36m0\u001b[0m\u001b[0;34m]\u001b[0m\u001b[0;34m,\u001b[0m\u001b[0;36m1\u001b[0m\u001b[0;34m)\u001b[0m\u001b[0;34m,\u001b[0m\u001b[0mfloat\u001b[0m\u001b[0;34m)\u001b[0m\u001b[0;34m\u001b[0m\u001b[0;34m\u001b[0m\u001b[0m\n\u001b[1;32m     10\u001b[0m   \u001b[0mtrain_pred\u001b[0m\u001b[0;34m=\u001b[0m\u001b[0mnp\u001b[0m\u001b[0;34m.\u001b[0m\u001b[0mempty\u001b[0m\u001b[0;34m(\u001b[0m\u001b[0;34m(\u001b[0m\u001b[0;36m0\u001b[0m\u001b[0;34m,\u001b[0m\u001b[0;36m1\u001b[0m\u001b[0;34m)\u001b[0m\u001b[0;34m,\u001b[0m\u001b[0mfloat\u001b[0m\u001b[0;34m)\u001b[0m\u001b[0;34m\u001b[0m\u001b[0;34m\u001b[0m\u001b[0m\n\u001b[0;32m---> 11\u001b[0;31m   \u001b[0;32mfor\u001b[0m \u001b[0mtrain_indices\u001b[0m\u001b[0;34m,\u001b[0m\u001b[0mval_indices\u001b[0m \u001b[0;32min\u001b[0m \u001b[0mfolds\u001b[0m\u001b[0;34m.\u001b[0m\u001b[0msplit\u001b[0m\u001b[0;34m(\u001b[0m\u001b[0mtrain\u001b[0m\u001b[0;34m,\u001b[0m\u001b[0my\u001b[0m\u001b[0;34m.\u001b[0m\u001b[0mvalues\u001b[0m\u001b[0;34m)\u001b[0m\u001b[0;34m:\u001b[0m\u001b[0;34m\u001b[0m\u001b[0;34m\u001b[0m\u001b[0m\n\u001b[0m\u001b[1;32m     12\u001b[0m     \u001b[0mx_train\u001b[0m\u001b[0;34m,\u001b[0m\u001b[0mx_val\u001b[0m\u001b[0;34m=\u001b[0m\u001b[0mtrain\u001b[0m\u001b[0;34m.\u001b[0m\u001b[0miloc\u001b[0m\u001b[0;34m[\u001b[0m\u001b[0mtrain_indices\u001b[0m\u001b[0;34m]\u001b[0m\u001b[0;34m,\u001b[0m\u001b[0mtrain\u001b[0m\u001b[0;34m.\u001b[0m\u001b[0miloc\u001b[0m\u001b[0;34m[\u001b[0m\u001b[0mval_indices\u001b[0m\u001b[0;34m]\u001b[0m\u001b[0;34m\u001b[0m\u001b[0;34m\u001b[0m\u001b[0m\n\u001b[1;32m     13\u001b[0m     \u001b[0my_train\u001b[0m\u001b[0;34m,\u001b[0m\u001b[0my_val\u001b[0m\u001b[0;34m=\u001b[0m\u001b[0my\u001b[0m\u001b[0;34m.\u001b[0m\u001b[0miloc\u001b[0m\u001b[0;34m[\u001b[0m\u001b[0mtrain_indices\u001b[0m\u001b[0;34m]\u001b[0m\u001b[0;34m,\u001b[0m\u001b[0my\u001b[0m\u001b[0;34m.\u001b[0m\u001b[0miloc\u001b[0m\u001b[0;34m[\u001b[0m\u001b[0mval_indices\u001b[0m\u001b[0;34m]\u001b[0m\u001b[0;34m\u001b[0m\u001b[0;34m\u001b[0m\u001b[0m\n",
            "\u001b[0;31mAttributeError\u001b[0m: 'int' object has no attribute 'split'"
          ]
        }
      ]
    },
    {
      "cell_type": "code",
      "metadata": {
        "colab": {
          "base_uri": "https://localhost:8080/",
          "height": 351
        },
        "id": "gXjvbTw76a-o",
        "outputId": "25f6048d-ce6b-4518-8e9e-3ffecefe8b0b"
      },
      "source": [
        "from sklearn.ensemble import RandomForestRegressor\n",
        "model2 = RandomForestRegressor()\n",
        "\n",
        "test_pred2 ,train_pred2=Stacking(model=model2,n_fold=2,train=X_train,test=X_test,y=y_train)\n",
        "\n",
        "train_pred2=pd.DataFrame(train_pred2)\n",
        "test_pred2=pd.DataFrame(test_pred2)"
      ],
      "execution_count": null,
      "outputs": [
        {
          "output_type": "error",
          "ename": "AttributeError",
          "evalue": "ignored",
          "traceback": [
            "\u001b[0;31m---------------------------------------------------------------------------\u001b[0m",
            "\u001b[0;31mAttributeError\u001b[0m                            Traceback (most recent call last)",
            "\u001b[0;32m<ipython-input-34-97b19a71b792>\u001b[0m in \u001b[0;36m<module>\u001b[0;34m()\u001b[0m\n\u001b[1;32m      2\u001b[0m \u001b[0mmodel2\u001b[0m \u001b[0;34m=\u001b[0m \u001b[0mRandomForestRegressor\u001b[0m\u001b[0;34m(\u001b[0m\u001b[0;34m)\u001b[0m\u001b[0;34m\u001b[0m\u001b[0;34m\u001b[0m\u001b[0m\n\u001b[1;32m      3\u001b[0m \u001b[0;34m\u001b[0m\u001b[0m\n\u001b[0;32m----> 4\u001b[0;31m \u001b[0mtest_pred2\u001b[0m \u001b[0;34m,\u001b[0m\u001b[0mtrain_pred2\u001b[0m\u001b[0;34m=\u001b[0m\u001b[0mStacking\u001b[0m\u001b[0;34m(\u001b[0m\u001b[0mmodel\u001b[0m\u001b[0;34m=\u001b[0m\u001b[0mmodel2\u001b[0m\u001b[0;34m,\u001b[0m\u001b[0mn_fold\u001b[0m\u001b[0;34m=\u001b[0m\u001b[0;36m2\u001b[0m\u001b[0;34m,\u001b[0m\u001b[0mtrain\u001b[0m\u001b[0;34m=\u001b[0m\u001b[0mX_train\u001b[0m\u001b[0;34m,\u001b[0m\u001b[0mtest\u001b[0m\u001b[0;34m=\u001b[0m\u001b[0mX_test\u001b[0m\u001b[0;34m,\u001b[0m\u001b[0my\u001b[0m\u001b[0;34m=\u001b[0m\u001b[0my_train\u001b[0m\u001b[0;34m)\u001b[0m\u001b[0;34m\u001b[0m\u001b[0;34m\u001b[0m\u001b[0m\n\u001b[0m\u001b[1;32m      5\u001b[0m \u001b[0;34m\u001b[0m\u001b[0m\n\u001b[1;32m      6\u001b[0m \u001b[0mtrain_pred2\u001b[0m\u001b[0;34m=\u001b[0m\u001b[0mpd\u001b[0m\u001b[0;34m.\u001b[0m\u001b[0mDataFrame\u001b[0m\u001b[0;34m(\u001b[0m\u001b[0mtrain_pred2\u001b[0m\u001b[0;34m)\u001b[0m\u001b[0;34m\u001b[0m\u001b[0;34m\u001b[0m\u001b[0m\n",
            "\u001b[0;32m<ipython-input-31-10efb0e0f84a>\u001b[0m in \u001b[0;36mStacking\u001b[0;34m(model, train, y, test, n_fold)\u001b[0m\n\u001b[1;32m      9\u001b[0m   \u001b[0mtest_pred\u001b[0m\u001b[0;34m=\u001b[0m\u001b[0mnp\u001b[0m\u001b[0;34m.\u001b[0m\u001b[0mempty\u001b[0m\u001b[0;34m(\u001b[0m\u001b[0;34m(\u001b[0m\u001b[0mtest\u001b[0m\u001b[0;34m.\u001b[0m\u001b[0mshape\u001b[0m\u001b[0;34m[\u001b[0m\u001b[0;36m0\u001b[0m\u001b[0;34m]\u001b[0m\u001b[0;34m,\u001b[0m\u001b[0;36m1\u001b[0m\u001b[0;34m)\u001b[0m\u001b[0;34m,\u001b[0m\u001b[0mfloat\u001b[0m\u001b[0;34m)\u001b[0m\u001b[0;34m\u001b[0m\u001b[0;34m\u001b[0m\u001b[0m\n\u001b[1;32m     10\u001b[0m   \u001b[0mtrain_pred\u001b[0m\u001b[0;34m=\u001b[0m\u001b[0mnp\u001b[0m\u001b[0;34m.\u001b[0m\u001b[0mempty\u001b[0m\u001b[0;34m(\u001b[0m\u001b[0;34m(\u001b[0m\u001b[0;36m0\u001b[0m\u001b[0;34m,\u001b[0m\u001b[0;36m1\u001b[0m\u001b[0;34m)\u001b[0m\u001b[0;34m,\u001b[0m\u001b[0mfloat\u001b[0m\u001b[0;34m)\u001b[0m\u001b[0;34m\u001b[0m\u001b[0;34m\u001b[0m\u001b[0m\n\u001b[0;32m---> 11\u001b[0;31m   \u001b[0;32mfor\u001b[0m \u001b[0mtrain_indices\u001b[0m\u001b[0;34m,\u001b[0m\u001b[0mval_indices\u001b[0m \u001b[0;32min\u001b[0m \u001b[0mfolds\u001b[0m\u001b[0;34m.\u001b[0m\u001b[0msplit\u001b[0m\u001b[0;34m(\u001b[0m\u001b[0mtrain\u001b[0m\u001b[0;34m,\u001b[0m\u001b[0my\u001b[0m\u001b[0;34m.\u001b[0m\u001b[0mvalues\u001b[0m\u001b[0;34m)\u001b[0m\u001b[0;34m:\u001b[0m\u001b[0;34m\u001b[0m\u001b[0;34m\u001b[0m\u001b[0m\n\u001b[0m\u001b[1;32m     12\u001b[0m     \u001b[0mx_train\u001b[0m\u001b[0;34m,\u001b[0m\u001b[0mx_val\u001b[0m\u001b[0;34m=\u001b[0m\u001b[0mtrain\u001b[0m\u001b[0;34m.\u001b[0m\u001b[0miloc\u001b[0m\u001b[0;34m[\u001b[0m\u001b[0mtrain_indices\u001b[0m\u001b[0;34m]\u001b[0m\u001b[0;34m,\u001b[0m\u001b[0mtrain\u001b[0m\u001b[0;34m.\u001b[0m\u001b[0miloc\u001b[0m\u001b[0;34m[\u001b[0m\u001b[0mval_indices\u001b[0m\u001b[0;34m]\u001b[0m\u001b[0;34m\u001b[0m\u001b[0;34m\u001b[0m\u001b[0m\n\u001b[1;32m     13\u001b[0m     \u001b[0my_train\u001b[0m\u001b[0;34m,\u001b[0m\u001b[0my_val\u001b[0m\u001b[0;34m=\u001b[0m\u001b[0my\u001b[0m\u001b[0;34m.\u001b[0m\u001b[0miloc\u001b[0m\u001b[0;34m[\u001b[0m\u001b[0mtrain_indices\u001b[0m\u001b[0;34m]\u001b[0m\u001b[0;34m,\u001b[0m\u001b[0my\u001b[0m\u001b[0;34m.\u001b[0m\u001b[0miloc\u001b[0m\u001b[0;34m[\u001b[0m\u001b[0mval_indices\u001b[0m\u001b[0;34m]\u001b[0m\u001b[0;34m\u001b[0m\u001b[0;34m\u001b[0m\u001b[0m\n",
            "\u001b[0;31mAttributeError\u001b[0m: 'int' object has no attribute 'split'"
          ]
        }
      ]
    },
    {
      "cell_type": "code",
      "metadata": {
        "colab": {
          "base_uri": "https://localhost:8080/",
          "height": 341
        },
        "id": "ao_xn9Vy8DQ3",
        "outputId": "edcbd114-10f1-4e00-b054-d76186198223"
      },
      "source": [
        "from sklearn.linear_model import LinearRegression\n",
        "df = pd.concat([train_pred1, train_pred2], axis=1)\n",
        "df_test = pd.concat([test_pred1, test_pred2], axis=1)\n",
        "\n",
        "model = LinearRegression()\n",
        "model.fit(df,y_train)\n",
        "model.score(df_test, y_test)"
      ],
      "execution_count": null,
      "outputs": [
        {
          "output_type": "error",
          "ename": "ValueError",
          "evalue": "ignored",
          "traceback": [
            "\u001b[0;31m---------------------------------------------------------------------------\u001b[0m",
            "\u001b[0;31mValueError\u001b[0m                                Traceback (most recent call last)",
            "\u001b[0;32m<ipython-input-35-61fa5bcfebd8>\u001b[0m in \u001b[0;36m<module>\u001b[0;34m()\u001b[0m\n\u001b[1;32m      5\u001b[0m \u001b[0mmodel\u001b[0m \u001b[0;34m=\u001b[0m \u001b[0mLinearRegression\u001b[0m\u001b[0;34m(\u001b[0m\u001b[0;34m)\u001b[0m\u001b[0;34m\u001b[0m\u001b[0;34m\u001b[0m\u001b[0m\n\u001b[1;32m      6\u001b[0m \u001b[0mmodel\u001b[0m\u001b[0;34m.\u001b[0m\u001b[0mfit\u001b[0m\u001b[0;34m(\u001b[0m\u001b[0mdf\u001b[0m\u001b[0;34m,\u001b[0m\u001b[0my_train\u001b[0m\u001b[0;34m)\u001b[0m\u001b[0;34m\u001b[0m\u001b[0;34m\u001b[0m\u001b[0m\n\u001b[0;32m----> 7\u001b[0;31m \u001b[0mmodel\u001b[0m\u001b[0;34m.\u001b[0m\u001b[0mscore\u001b[0m\u001b[0;34m(\u001b[0m\u001b[0mX_test\u001b[0m\u001b[0;34m,\u001b[0m \u001b[0my_test\u001b[0m\u001b[0;34m)\u001b[0m\u001b[0;34m\u001b[0m\u001b[0;34m\u001b[0m\u001b[0m\n\u001b[0m",
            "\u001b[0;32m/usr/local/lib/python3.6/dist-packages/sklearn/base.py\u001b[0m in \u001b[0;36mscore\u001b[0;34m(self, X, y, sample_weight)\u001b[0m\n\u001b[1;32m    420\u001b[0m         \u001b[0;32mfrom\u001b[0m \u001b[0;34m.\u001b[0m\u001b[0mmetrics\u001b[0m \u001b[0;32mimport\u001b[0m \u001b[0mr2_score\u001b[0m\u001b[0;34m\u001b[0m\u001b[0;34m\u001b[0m\u001b[0m\n\u001b[1;32m    421\u001b[0m         \u001b[0;32mfrom\u001b[0m \u001b[0;34m.\u001b[0m\u001b[0mmetrics\u001b[0m\u001b[0;34m.\u001b[0m\u001b[0m_regression\u001b[0m \u001b[0;32mimport\u001b[0m \u001b[0m_check_reg_targets\u001b[0m\u001b[0;34m\u001b[0m\u001b[0;34m\u001b[0m\u001b[0m\n\u001b[0;32m--> 422\u001b[0;31m         \u001b[0my_pred\u001b[0m \u001b[0;34m=\u001b[0m \u001b[0mself\u001b[0m\u001b[0;34m.\u001b[0m\u001b[0mpredict\u001b[0m\u001b[0;34m(\u001b[0m\u001b[0mX\u001b[0m\u001b[0;34m)\u001b[0m\u001b[0;34m\u001b[0m\u001b[0;34m\u001b[0m\u001b[0m\n\u001b[0m\u001b[1;32m    423\u001b[0m         \u001b[0;31m# XXX: Remove the check in 0.23\u001b[0m\u001b[0;34m\u001b[0m\u001b[0;34m\u001b[0m\u001b[0;34m\u001b[0m\u001b[0m\n\u001b[1;32m    424\u001b[0m         \u001b[0my_type\u001b[0m\u001b[0;34m,\u001b[0m \u001b[0m_\u001b[0m\u001b[0;34m,\u001b[0m \u001b[0m_\u001b[0m\u001b[0;34m,\u001b[0m \u001b[0m_\u001b[0m \u001b[0;34m=\u001b[0m \u001b[0m_check_reg_targets\u001b[0m\u001b[0;34m(\u001b[0m\u001b[0my\u001b[0m\u001b[0;34m,\u001b[0m \u001b[0my_pred\u001b[0m\u001b[0;34m,\u001b[0m \u001b[0;32mNone\u001b[0m\u001b[0;34m)\u001b[0m\u001b[0;34m\u001b[0m\u001b[0;34m\u001b[0m\u001b[0m\n",
            "\u001b[0;32m/usr/local/lib/python3.6/dist-packages/sklearn/linear_model/_base.py\u001b[0m in \u001b[0;36mpredict\u001b[0;34m(self, X)\u001b[0m\n\u001b[1;32m    223\u001b[0m             \u001b[0mReturns\u001b[0m \u001b[0mpredicted\u001b[0m \u001b[0mvalues\u001b[0m\u001b[0;34m.\u001b[0m\u001b[0;34m\u001b[0m\u001b[0;34m\u001b[0m\u001b[0m\n\u001b[1;32m    224\u001b[0m         \"\"\"\n\u001b[0;32m--> 225\u001b[0;31m         \u001b[0;32mreturn\u001b[0m \u001b[0mself\u001b[0m\u001b[0;34m.\u001b[0m\u001b[0m_decision_function\u001b[0m\u001b[0;34m(\u001b[0m\u001b[0mX\u001b[0m\u001b[0;34m)\u001b[0m\u001b[0;34m\u001b[0m\u001b[0;34m\u001b[0m\u001b[0m\n\u001b[0m\u001b[1;32m    226\u001b[0m \u001b[0;34m\u001b[0m\u001b[0m\n\u001b[1;32m    227\u001b[0m     \u001b[0m_preprocess_data\u001b[0m \u001b[0;34m=\u001b[0m \u001b[0mstaticmethod\u001b[0m\u001b[0;34m(\u001b[0m\u001b[0m_preprocess_data\u001b[0m\u001b[0;34m)\u001b[0m\u001b[0;34m\u001b[0m\u001b[0;34m\u001b[0m\u001b[0m\n",
            "\u001b[0;32m/usr/local/lib/python3.6/dist-packages/sklearn/linear_model/_base.py\u001b[0m in \u001b[0;36m_decision_function\u001b[0;34m(self, X)\u001b[0m\n\u001b[1;32m    207\u001b[0m         \u001b[0mX\u001b[0m \u001b[0;34m=\u001b[0m \u001b[0mcheck_array\u001b[0m\u001b[0;34m(\u001b[0m\u001b[0mX\u001b[0m\u001b[0;34m,\u001b[0m \u001b[0maccept_sparse\u001b[0m\u001b[0;34m=\u001b[0m\u001b[0;34m[\u001b[0m\u001b[0;34m'csr'\u001b[0m\u001b[0;34m,\u001b[0m \u001b[0;34m'csc'\u001b[0m\u001b[0;34m,\u001b[0m \u001b[0;34m'coo'\u001b[0m\u001b[0;34m]\u001b[0m\u001b[0;34m)\u001b[0m\u001b[0;34m\u001b[0m\u001b[0;34m\u001b[0m\u001b[0m\n\u001b[1;32m    208\u001b[0m         return safe_sparse_dot(X, self.coef_.T,\n\u001b[0;32m--> 209\u001b[0;31m                                dense_output=True) + self.intercept_\n\u001b[0m\u001b[1;32m    210\u001b[0m \u001b[0;34m\u001b[0m\u001b[0m\n\u001b[1;32m    211\u001b[0m     \u001b[0;32mdef\u001b[0m \u001b[0mpredict\u001b[0m\u001b[0;34m(\u001b[0m\u001b[0mself\u001b[0m\u001b[0;34m,\u001b[0m \u001b[0mX\u001b[0m\u001b[0;34m)\u001b[0m\u001b[0;34m:\u001b[0m\u001b[0;34m\u001b[0m\u001b[0;34m\u001b[0m\u001b[0m\n",
            "\u001b[0;32m/usr/local/lib/python3.6/dist-packages/sklearn/utils/extmath.py\u001b[0m in \u001b[0;36msafe_sparse_dot\u001b[0;34m(a, b, dense_output)\u001b[0m\n\u001b[1;32m    149\u001b[0m             \u001b[0mret\u001b[0m \u001b[0;34m=\u001b[0m \u001b[0mnp\u001b[0m\u001b[0;34m.\u001b[0m\u001b[0mdot\u001b[0m\u001b[0;34m(\u001b[0m\u001b[0ma\u001b[0m\u001b[0;34m,\u001b[0m \u001b[0mb\u001b[0m\u001b[0;34m)\u001b[0m\u001b[0;34m\u001b[0m\u001b[0;34m\u001b[0m\u001b[0m\n\u001b[1;32m    150\u001b[0m     \u001b[0;32melse\u001b[0m\u001b[0;34m:\u001b[0m\u001b[0;34m\u001b[0m\u001b[0;34m\u001b[0m\u001b[0m\n\u001b[0;32m--> 151\u001b[0;31m         \u001b[0mret\u001b[0m \u001b[0;34m=\u001b[0m \u001b[0ma\u001b[0m \u001b[0;34m@\u001b[0m \u001b[0mb\u001b[0m\u001b[0;34m\u001b[0m\u001b[0;34m\u001b[0m\u001b[0m\n\u001b[0m\u001b[1;32m    152\u001b[0m \u001b[0;34m\u001b[0m\u001b[0m\n\u001b[1;32m    153\u001b[0m     if (sparse.issparse(a) and sparse.issparse(b)\n",
            "\u001b[0;31mValueError\u001b[0m: matmul: Input operand 1 has a mismatch in its core dimension 0, with gufunc signature (n?,k),(k,m?)->(n?,m?) (size 2 is different from 9)"
          ]
        }
      ]
    },
    {
      "cell_type": "code",
      "metadata": {
        "colab": {
          "base_uri": "https://localhost:8080/",
          "height": 419
        },
        "id": "WPmoE8AD_T7z",
        "outputId": "9e9caf58-02b2-4cbf-8355-f27cf54d91d0"
      },
      "source": [
        "y_test"
      ],
      "execution_count": null,
      "outputs": [
        {
          "output_type": "execute_result",
          "data": {
            "text/html": [
              "<div>\n",
              "<style scoped>\n",
              "    .dataframe tbody tr th:only-of-type {\n",
              "        vertical-align: middle;\n",
              "    }\n",
              "\n",
              "    .dataframe tbody tr th {\n",
              "        vertical-align: top;\n",
              "    }\n",
              "\n",
              "    .dataframe thead th {\n",
              "        text-align: right;\n",
              "    }\n",
              "</style>\n",
              "<table border=\"1\" class=\"dataframe\">\n",
              "  <thead>\n",
              "    <tr style=\"text-align: right;\">\n",
              "      <th></th>\n",
              "      <th>PM2.5_Value</th>\n",
              "    </tr>\n",
              "  </thead>\n",
              "  <tbody>\n",
              "    <tr>\n",
              "      <th>0</th>\n",
              "      <td>4.250000</td>\n",
              "    </tr>\n",
              "    <tr>\n",
              "      <th>1</th>\n",
              "      <td>7.238095</td>\n",
              "    </tr>\n",
              "    <tr>\n",
              "      <th>2</th>\n",
              "      <td>5.803571</td>\n",
              "    </tr>\n",
              "    <tr>\n",
              "      <th>3</th>\n",
              "      <td>6.261905</td>\n",
              "    </tr>\n",
              "    <tr>\n",
              "      <th>4</th>\n",
              "      <td>7.755952</td>\n",
              "    </tr>\n",
              "    <tr>\n",
              "      <th>...</th>\n",
              "      <td>...</td>\n",
              "    </tr>\n",
              "    <tr>\n",
              "      <th>9723</th>\n",
              "      <td>3.725432</td>\n",
              "    </tr>\n",
              "    <tr>\n",
              "      <th>9724</th>\n",
              "      <td>3.104212</td>\n",
              "    </tr>\n",
              "    <tr>\n",
              "      <th>9725</th>\n",
              "      <td>3.686197</td>\n",
              "    </tr>\n",
              "    <tr>\n",
              "      <th>9726</th>\n",
              "      <td>7.000000</td>\n",
              "    </tr>\n",
              "    <tr>\n",
              "      <th>9727</th>\n",
              "      <td>7.000000</td>\n",
              "    </tr>\n",
              "  </tbody>\n",
              "</table>\n",
              "<p>9728 rows × 1 columns</p>\n",
              "</div>"
            ],
            "text/plain": [
              "      PM2.5_Value\n",
              "0        4.250000\n",
              "1        7.238095\n",
              "2        5.803571\n",
              "3        6.261905\n",
              "4        7.755952\n",
              "...           ...\n",
              "9723     3.725432\n",
              "9724     3.104212\n",
              "9725     3.686197\n",
              "9726     7.000000\n",
              "9727     7.000000\n",
              "\n",
              "[9728 rows x 1 columns]"
            ]
          },
          "metadata": {
            "tags": []
          },
          "execution_count": 24
        }
      ]
    },
    {
      "cell_type": "code",
      "metadata": {
        "colab": {
          "base_uri": "https://localhost:8080/"
        },
        "id": "R3alGViz_c4D",
        "outputId": "3f5d76da-b9bb-4e8f-ed06-e627a895c260"
      },
      "source": [
        "y_test.shape"
      ],
      "execution_count": null,
      "outputs": [
        {
          "output_type": "execute_result",
          "data": {
            "text/plain": [
              "(9728, 1)"
            ]
          },
          "metadata": {
            "tags": []
          },
          "execution_count": 25
        }
      ]
    },
    {
      "cell_type": "code",
      "metadata": {
        "colab": {
          "base_uri": "https://localhost:8080/"
        },
        "id": "bGeeoYNP_lmr",
        "outputId": "65c42fc1-3a36-48f4-cb0e-65df1e1b438b"
      },
      "source": [
        "y_train.shape"
      ],
      "execution_count": null,
      "outputs": [
        {
          "output_type": "execute_result",
          "data": {
            "text/plain": [
              "(71263, 1)"
            ]
          },
          "metadata": {
            "tags": []
          },
          "execution_count": 26
        }
      ]
    },
    {
      "cell_type": "code",
      "metadata": {
        "colab": {
          "base_uri": "https://localhost:8080/",
          "height": 375
        },
        "id": "vKukydciCvOo",
        "outputId": "c2b208b1-da8f-4812-dd40-192a05bd0a19"
      },
      "source": [
        "from xgboost import XGBRegressor\n",
        "from math import sqrt\n",
        "XGB_model = XGBRegressor( \n",
        "          colsample_bytree=0.7, learning_rate=0.05, \n",
        "          max_depth=6, min_child_weight=4,  n_estimators=500,\n",
        "          nthread=4, objective='reg:linear', seed= 42,\n",
        "          reg_alpha=0, reg_lambda=1, \n",
        "          silent=True, subsample=0.7)\n",
        "XGB_model.fit(X_train, y_train)\n",
        "y_XGB_predict = XGB_model.predict(X_test)\n",
        "\n",
        "XGB_model_error = sqrt(mean_squared_error(y_test, y_XGB_predict)) \n",
        "\n",
        "print(f'XGBoost Mean Squared Error - {XGB_model_error}')"
      ],
      "execution_count": null,
      "outputs": [
        {
          "output_type": "error",
          "ename": "KeyboardInterrupt",
          "evalue": "ignored",
          "traceback": [
            "\u001b[0;31m---------------------------------------------------------------------------\u001b[0m",
            "\u001b[0;31mKeyboardInterrupt\u001b[0m                         Traceback (most recent call last)",
            "\u001b[0;32m<ipython-input-45-3d4503317364>\u001b[0m in \u001b[0;36m<module>\u001b[0;34m()\u001b[0m\n\u001b[1;32m      7\u001b[0m           \u001b[0mreg_alpha\u001b[0m\u001b[0;34m=\u001b[0m\u001b[0;36m0\u001b[0m\u001b[0;34m,\u001b[0m \u001b[0mreg_lambda\u001b[0m\u001b[0;34m=\u001b[0m\u001b[0;36m1\u001b[0m\u001b[0;34m,\u001b[0m\u001b[0;34m\u001b[0m\u001b[0;34m\u001b[0m\u001b[0m\n\u001b[1;32m      8\u001b[0m           silent=True, subsample=0.7)\n\u001b[0;32m----> 9\u001b[0;31m \u001b[0mXGB_model\u001b[0m\u001b[0;34m.\u001b[0m\u001b[0mfit\u001b[0m\u001b[0;34m(\u001b[0m\u001b[0mX_train\u001b[0m\u001b[0;34m,\u001b[0m \u001b[0my_train\u001b[0m\u001b[0;34m)\u001b[0m\u001b[0;34m\u001b[0m\u001b[0;34m\u001b[0m\u001b[0m\n\u001b[0m\u001b[1;32m     10\u001b[0m \u001b[0my_XGB_predict\u001b[0m \u001b[0;34m=\u001b[0m \u001b[0mXGB_model\u001b[0m\u001b[0;34m.\u001b[0m\u001b[0mpredict\u001b[0m\u001b[0;34m(\u001b[0m\u001b[0mX_test\u001b[0m\u001b[0;34m)\u001b[0m\u001b[0;34m\u001b[0m\u001b[0;34m\u001b[0m\u001b[0m\n\u001b[1;32m     11\u001b[0m \u001b[0;34m\u001b[0m\u001b[0m\n",
            "\u001b[0;32m/usr/local/lib/python3.6/dist-packages/xgboost/sklearn.py\u001b[0m in \u001b[0;36mfit\u001b[0;34m(self, X, y, sample_weight, eval_set, eval_metric, early_stopping_rounds, verbose, xgb_model, sample_weight_eval_set, callbacks)\u001b[0m\n\u001b[1;32m    394\u001b[0m                               \u001b[0mevals_result\u001b[0m\u001b[0;34m=\u001b[0m\u001b[0mevals_result\u001b[0m\u001b[0;34m,\u001b[0m \u001b[0mobj\u001b[0m\u001b[0;34m=\u001b[0m\u001b[0mobj\u001b[0m\u001b[0;34m,\u001b[0m \u001b[0mfeval\u001b[0m\u001b[0;34m=\u001b[0m\u001b[0mfeval\u001b[0m\u001b[0;34m,\u001b[0m\u001b[0;34m\u001b[0m\u001b[0;34m\u001b[0m\u001b[0m\n\u001b[1;32m    395\u001b[0m                               \u001b[0mverbose_eval\u001b[0m\u001b[0;34m=\u001b[0m\u001b[0mverbose\u001b[0m\u001b[0;34m,\u001b[0m \u001b[0mxgb_model\u001b[0m\u001b[0;34m=\u001b[0m\u001b[0mxgb_model\u001b[0m\u001b[0;34m,\u001b[0m\u001b[0;34m\u001b[0m\u001b[0;34m\u001b[0m\u001b[0m\n\u001b[0;32m--> 396\u001b[0;31m                               callbacks=callbacks)\n\u001b[0m\u001b[1;32m    397\u001b[0m \u001b[0;34m\u001b[0m\u001b[0m\n\u001b[1;32m    398\u001b[0m         \u001b[0;32mif\u001b[0m \u001b[0mevals_result\u001b[0m\u001b[0;34m:\u001b[0m\u001b[0;34m\u001b[0m\u001b[0;34m\u001b[0m\u001b[0m\n",
            "\u001b[0;32m/usr/local/lib/python3.6/dist-packages/xgboost/training.py\u001b[0m in \u001b[0;36mtrain\u001b[0;34m(params, dtrain, num_boost_round, evals, obj, feval, maximize, early_stopping_rounds, evals_result, verbose_eval, xgb_model, callbacks, learning_rates)\u001b[0m\n\u001b[1;32m    214\u001b[0m                            \u001b[0mevals\u001b[0m\u001b[0;34m=\u001b[0m\u001b[0mevals\u001b[0m\u001b[0;34m,\u001b[0m\u001b[0;34m\u001b[0m\u001b[0;34m\u001b[0m\u001b[0m\n\u001b[1;32m    215\u001b[0m                            \u001b[0mobj\u001b[0m\u001b[0;34m=\u001b[0m\u001b[0mobj\u001b[0m\u001b[0;34m,\u001b[0m \u001b[0mfeval\u001b[0m\u001b[0;34m=\u001b[0m\u001b[0mfeval\u001b[0m\u001b[0;34m,\u001b[0m\u001b[0;34m\u001b[0m\u001b[0;34m\u001b[0m\u001b[0m\n\u001b[0;32m--> 216\u001b[0;31m                            xgb_model=xgb_model, callbacks=callbacks)\n\u001b[0m\u001b[1;32m    217\u001b[0m \u001b[0;34m\u001b[0m\u001b[0m\n\u001b[1;32m    218\u001b[0m \u001b[0;34m\u001b[0m\u001b[0m\n",
            "\u001b[0;32m/usr/local/lib/python3.6/dist-packages/xgboost/training.py\u001b[0m in \u001b[0;36m_train_internal\u001b[0;34m(params, dtrain, num_boost_round, evals, obj, feval, xgb_model, callbacks)\u001b[0m\n\u001b[1;32m     72\u001b[0m         \u001b[0;31m# Skip the first update if it is a recovery step.\u001b[0m\u001b[0;34m\u001b[0m\u001b[0;34m\u001b[0m\u001b[0;34m\u001b[0m\u001b[0m\n\u001b[1;32m     73\u001b[0m         \u001b[0;32mif\u001b[0m \u001b[0mversion\u001b[0m \u001b[0;34m%\u001b[0m \u001b[0;36m2\u001b[0m \u001b[0;34m==\u001b[0m \u001b[0;36m0\u001b[0m\u001b[0;34m:\u001b[0m\u001b[0;34m\u001b[0m\u001b[0;34m\u001b[0m\u001b[0m\n\u001b[0;32m---> 74\u001b[0;31m             \u001b[0mbst\u001b[0m\u001b[0;34m.\u001b[0m\u001b[0mupdate\u001b[0m\u001b[0;34m(\u001b[0m\u001b[0mdtrain\u001b[0m\u001b[0;34m,\u001b[0m \u001b[0mi\u001b[0m\u001b[0;34m,\u001b[0m \u001b[0mobj\u001b[0m\u001b[0;34m)\u001b[0m\u001b[0;34m\u001b[0m\u001b[0;34m\u001b[0m\u001b[0m\n\u001b[0m\u001b[1;32m     75\u001b[0m             \u001b[0mbst\u001b[0m\u001b[0;34m.\u001b[0m\u001b[0msave_rabit_checkpoint\u001b[0m\u001b[0;34m(\u001b[0m\u001b[0;34m)\u001b[0m\u001b[0;34m\u001b[0m\u001b[0;34m\u001b[0m\u001b[0m\n\u001b[1;32m     76\u001b[0m             \u001b[0mversion\u001b[0m \u001b[0;34m+=\u001b[0m \u001b[0;36m1\u001b[0m\u001b[0;34m\u001b[0m\u001b[0;34m\u001b[0m\u001b[0m\n",
            "\u001b[0;32m/usr/local/lib/python3.6/dist-packages/xgboost/core.py\u001b[0m in \u001b[0;36mupdate\u001b[0;34m(self, dtrain, iteration, fobj)\u001b[0m\n\u001b[1;32m   1107\u001b[0m         \u001b[0;32mif\u001b[0m \u001b[0mfobj\u001b[0m \u001b[0;32mis\u001b[0m \u001b[0;32mNone\u001b[0m\u001b[0;34m:\u001b[0m\u001b[0;34m\u001b[0m\u001b[0;34m\u001b[0m\u001b[0m\n\u001b[1;32m   1108\u001b[0m             _check_call(_LIB.XGBoosterUpdateOneIter(self.handle, ctypes.c_int(iteration),\n\u001b[0;32m-> 1109\u001b[0;31m                                                     dtrain.handle))\n\u001b[0m\u001b[1;32m   1110\u001b[0m         \u001b[0;32melse\u001b[0m\u001b[0;34m:\u001b[0m\u001b[0;34m\u001b[0m\u001b[0;34m\u001b[0m\u001b[0m\n\u001b[1;32m   1111\u001b[0m             \u001b[0mpred\u001b[0m \u001b[0;34m=\u001b[0m \u001b[0mself\u001b[0m\u001b[0;34m.\u001b[0m\u001b[0mpredict\u001b[0m\u001b[0;34m(\u001b[0m\u001b[0mdtrain\u001b[0m\u001b[0;34m)\u001b[0m\u001b[0;34m\u001b[0m\u001b[0;34m\u001b[0m\u001b[0m\n",
            "\u001b[0;31mKeyboardInterrupt\u001b[0m: "
          ]
        }
      ]
    },
    {
      "cell_type": "code",
      "metadata": {
        "colab": {
          "base_uri": "https://localhost:8080/"
        },
        "id": "VPzzTvw_lcc8",
        "outputId": "9a16fa18-3b5b-499f-87d9-7f00bfdc1f8f"
      },
      "source": [
        "lgb_model = lgb.LGBMRegressor(objective='regression',num_leaves=35, n_estimators=300)\n",
        "\n",
        "lgb_model.fit(X_train, y_train)\n",
        "y_LGB_predict = lgb_model.predict(X_test)\n",
        "\n",
        "LGB_model_error = sqrt(mean_squared_error(y_test,y_LGB_predict))\n",
        "\n",
        "print(f'LGBM Mean Squared Error - {LGB_model_error}')"
      ],
      "execution_count": null,
      "outputs": [
        {
          "output_type": "stream",
          "text": [
            "LGBM Mean Squared Error - 20.675586825751292\n"
          ],
          "name": "stdout"
        }
      ]
    },
    {
      "cell_type": "code",
      "metadata": {
        "colab": {
          "base_uri": "https://localhost:8080/"
        },
        "id": "IDt54O4xuCuy",
        "outputId": "45de3b84-e16a-436b-fcca-bbc6cc72aea2"
      },
      "source": [
        "ensembled_prediction = (0.5*y_XGB_predict)+(0.5*y_LGB_predict)\n",
        "ensembled_prediction_error = sqrt(mean_squared_error(y_test, ensembled_prediction))\n",
        "\n",
        "print(f'Ensembled Mean Squared Error - {ensembled_prediction_error}')"
      ],
      "execution_count": null,
      "outputs": [
        {
          "output_type": "stream",
          "text": [
            "Ensembled Mean Squared Error - 21.259981658241582\n"
          ],
          "name": "stdout"
        }
      ]
    },
    {
      "cell_type": "code",
      "metadata": {
        "colab": {
          "base_uri": "https://localhost:8080/",
          "height": 409
        },
        "id": "lRZomWAiunJa",
        "outputId": "a62b8604-1c09-4907-ca31-441320fc73ae"
      },
      "source": [
        "# compare ensemble to each standalone models for regression\n",
        "from numpy import mean\n",
        "from numpy import std\n",
        "from sklearn.datasets import make_regression\n",
        "from sklearn.model_selection import cross_val_score\n",
        "from sklearn.model_selection import RepeatedKFold\n",
        "from sklearn.linear_model import LinearRegression\n",
        "from sklearn.neighbors import KNeighborsRegressor\n",
        "from sklearn.tree import DecisionTreeRegressor\n",
        "from sklearn.svm import SVR\n",
        "from sklearn.ensemble import StackingRegressor\n",
        "from xgboost import XGBRegressor\n",
        "from matplotlib import pyplot\n",
        "\n",
        "# get the dataset\n",
        "def get_dataset():\n",
        "\tX, y = make_regression(n_samples=1000, n_features=20, n_informative=15, noise=0.1, random_state=1)\n",
        "\treturn X, y\n",
        "\n",
        "# get a stacking ensemble of models\n",
        "def get_stacking():\n",
        "\t# define the base models\n",
        "\tlevel0 = list()\n",
        "\tlevel0.append(('xgb',XGBRegressor( \n",
        "          colsample_bytree=0.7, learning_rate=0.05, \n",
        "          max_depth=6, min_child_weight=4,  n_estimators=500,\n",
        "          nthread=4, objective='reg:linear', seed= 42,\n",
        "          reg_alpha=0, reg_lambda=1, \n",
        "          silent=True, subsample=0.7)))\n",
        "\tlevel0.append(('cart', DecisionTreeRegressor()))\n",
        "\tlevel0.append(('svm', SVR()))\n",
        "\t# define meta learner model\n",
        "\tlevel1 = LinearRegression()\n",
        "\t# define the stacking ensemble\n",
        "\tmodel = StackingRegressor(estimators=level0, final_estimator=level1, cv=2)\n",
        "\treturn model\n",
        "\n",
        "# get a list of models to evaluate\n",
        "def get_models():\n",
        "\tmodels = dict()\n",
        "\tmodels['xgb'] = XGBRegressor( \n",
        "          colsample_bytree=0.7, learning_rate=0.05, \n",
        "          max_depth=6, min_child_weight=4,  n_estimators=500,\n",
        "          nthread=4, objective='reg:linear', seed= 42,\n",
        "          reg_alpha=0, reg_lambda=1, \n",
        "          silent=True, subsample=0.7)\n",
        "\tmodels['cart'] = DecisionTreeRegressor()\n",
        "\tmodels['svm'] = SVR()\n",
        "\tmodels['stacking'] = get_stacking()\n",
        "\treturn models\n",
        "\n",
        "# evaluate a given model using cross-validation\n",
        "def evaluate_model(model, X, y):\n",
        "\tcv = RepeatedKFold(n_splits=2, n_repeats=1, random_state=1)\n",
        "\tscores = cross_val_score(model, X, y, scoring='neg_mean_absolute_error', cv=cv, n_jobs=-1, error_score='raise')\n",
        "\treturn scores\n",
        "\n",
        "# define dataset\n",
        "X, y = get_dataset()\n",
        "# get the models to evaluate\n",
        "models = get_models()\n",
        "# evaluate the models and store results\n",
        "results, names = list(), list()\n",
        "for name, model in models.items():\n",
        "\tscores = evaluate_model(model, X_train, y_train)\n",
        "\tresults.append(scores)\n",
        "\tnames.append(name)\n",
        "\tprint('>%s %.3f (%.3f)' % (name, mean(scores), std(scores)))\n",
        "# plot model performance for comparison\n",
        "pyplot.boxplot(results, labels=names, showmeans=True)\n",
        "pyplot.show()"
      ],
      "execution_count": null,
      "outputs": [
        {
          "output_type": "stream",
          "text": [
            ">xgb -8.464 (0.014)\n",
            ">cart -11.375 (0.020)\n"
          ],
          "name": "stdout"
        },
        {
          "output_type": "error",
          "ename": "KeyboardInterrupt",
          "evalue": "ignored",
          "traceback": [
            "\u001b[0;31m---------------------------------------------------------------------------\u001b[0m",
            "\u001b[0;31mKeyboardInterrupt\u001b[0m                         Traceback (most recent call last)",
            "\u001b[0;32m<ipython-input-34-476ea13d6253>\u001b[0m in \u001b[0;36m<module>\u001b[0;34m()\u001b[0m\n\u001b[1;32m     63\u001b[0m \u001b[0mresults\u001b[0m\u001b[0;34m,\u001b[0m \u001b[0mnames\u001b[0m \u001b[0;34m=\u001b[0m \u001b[0mlist\u001b[0m\u001b[0;34m(\u001b[0m\u001b[0;34m)\u001b[0m\u001b[0;34m,\u001b[0m \u001b[0mlist\u001b[0m\u001b[0;34m(\u001b[0m\u001b[0;34m)\u001b[0m\u001b[0;34m\u001b[0m\u001b[0;34m\u001b[0m\u001b[0m\n\u001b[1;32m     64\u001b[0m \u001b[0;32mfor\u001b[0m \u001b[0mname\u001b[0m\u001b[0;34m,\u001b[0m \u001b[0mmodel\u001b[0m \u001b[0;32min\u001b[0m \u001b[0mmodels\u001b[0m\u001b[0;34m.\u001b[0m\u001b[0mitems\u001b[0m\u001b[0;34m(\u001b[0m\u001b[0;34m)\u001b[0m\u001b[0;34m:\u001b[0m\u001b[0;34m\u001b[0m\u001b[0;34m\u001b[0m\u001b[0m\n\u001b[0;32m---> 65\u001b[0;31m         \u001b[0mscores\u001b[0m \u001b[0;34m=\u001b[0m \u001b[0mevaluate_model\u001b[0m\u001b[0;34m(\u001b[0m\u001b[0mmodel\u001b[0m\u001b[0;34m,\u001b[0m \u001b[0mX_train\u001b[0m\u001b[0;34m,\u001b[0m \u001b[0my_train\u001b[0m\u001b[0;34m)\u001b[0m\u001b[0;34m\u001b[0m\u001b[0;34m\u001b[0m\u001b[0m\n\u001b[0m\u001b[1;32m     66\u001b[0m         \u001b[0mresults\u001b[0m\u001b[0;34m.\u001b[0m\u001b[0mappend\u001b[0m\u001b[0;34m(\u001b[0m\u001b[0mscores\u001b[0m\u001b[0;34m)\u001b[0m\u001b[0;34m\u001b[0m\u001b[0;34m\u001b[0m\u001b[0m\n\u001b[1;32m     67\u001b[0m         \u001b[0mnames\u001b[0m\u001b[0;34m.\u001b[0m\u001b[0mappend\u001b[0m\u001b[0;34m(\u001b[0m\u001b[0mname\u001b[0m\u001b[0;34m)\u001b[0m\u001b[0;34m\u001b[0m\u001b[0;34m\u001b[0m\u001b[0m\n",
            "\u001b[0;32m<ipython-input-34-476ea13d6253>\u001b[0m in \u001b[0;36mevaluate_model\u001b[0;34m(model, X, y)\u001b[0m\n\u001b[1;32m     53\u001b[0m \u001b[0;32mdef\u001b[0m \u001b[0mevaluate_model\u001b[0m\u001b[0;34m(\u001b[0m\u001b[0mmodel\u001b[0m\u001b[0;34m,\u001b[0m \u001b[0mX\u001b[0m\u001b[0;34m,\u001b[0m \u001b[0my\u001b[0m\u001b[0;34m)\u001b[0m\u001b[0;34m:\u001b[0m\u001b[0;34m\u001b[0m\u001b[0;34m\u001b[0m\u001b[0m\n\u001b[1;32m     54\u001b[0m         \u001b[0mcv\u001b[0m \u001b[0;34m=\u001b[0m \u001b[0mRepeatedKFold\u001b[0m\u001b[0;34m(\u001b[0m\u001b[0mn_splits\u001b[0m\u001b[0;34m=\u001b[0m\u001b[0;36m2\u001b[0m\u001b[0;34m,\u001b[0m \u001b[0mn_repeats\u001b[0m\u001b[0;34m=\u001b[0m\u001b[0;36m1\u001b[0m\u001b[0;34m,\u001b[0m \u001b[0mrandom_state\u001b[0m\u001b[0;34m=\u001b[0m\u001b[0;36m1\u001b[0m\u001b[0;34m)\u001b[0m\u001b[0;34m\u001b[0m\u001b[0;34m\u001b[0m\u001b[0m\n\u001b[0;32m---> 55\u001b[0;31m         \u001b[0mscores\u001b[0m \u001b[0;34m=\u001b[0m \u001b[0mcross_val_score\u001b[0m\u001b[0;34m(\u001b[0m\u001b[0mmodel\u001b[0m\u001b[0;34m,\u001b[0m \u001b[0mX\u001b[0m\u001b[0;34m,\u001b[0m \u001b[0my\u001b[0m\u001b[0;34m,\u001b[0m \u001b[0mscoring\u001b[0m\u001b[0;34m=\u001b[0m\u001b[0;34m'neg_mean_absolute_error'\u001b[0m\u001b[0;34m,\u001b[0m \u001b[0mcv\u001b[0m\u001b[0;34m=\u001b[0m\u001b[0mcv\u001b[0m\u001b[0;34m,\u001b[0m \u001b[0mn_jobs\u001b[0m\u001b[0;34m=\u001b[0m\u001b[0;34m-\u001b[0m\u001b[0;36m1\u001b[0m\u001b[0;34m,\u001b[0m \u001b[0merror_score\u001b[0m\u001b[0;34m=\u001b[0m\u001b[0;34m'raise'\u001b[0m\u001b[0;34m)\u001b[0m\u001b[0;34m\u001b[0m\u001b[0;34m\u001b[0m\u001b[0m\n\u001b[0m\u001b[1;32m     56\u001b[0m         \u001b[0;32mreturn\u001b[0m \u001b[0mscores\u001b[0m\u001b[0;34m\u001b[0m\u001b[0;34m\u001b[0m\u001b[0m\n\u001b[1;32m     57\u001b[0m \u001b[0;34m\u001b[0m\u001b[0m\n",
            "\u001b[0;32m/usr/local/lib/python3.6/dist-packages/sklearn/model_selection/_validation.py\u001b[0m in \u001b[0;36mcross_val_score\u001b[0;34m(estimator, X, y, groups, scoring, cv, n_jobs, verbose, fit_params, pre_dispatch, error_score)\u001b[0m\n\u001b[1;32m    388\u001b[0m                                 \u001b[0mfit_params\u001b[0m\u001b[0;34m=\u001b[0m\u001b[0mfit_params\u001b[0m\u001b[0;34m,\u001b[0m\u001b[0;34m\u001b[0m\u001b[0;34m\u001b[0m\u001b[0m\n\u001b[1;32m    389\u001b[0m                                 \u001b[0mpre_dispatch\u001b[0m\u001b[0;34m=\u001b[0m\u001b[0mpre_dispatch\u001b[0m\u001b[0;34m,\u001b[0m\u001b[0;34m\u001b[0m\u001b[0;34m\u001b[0m\u001b[0m\n\u001b[0;32m--> 390\u001b[0;31m                                 error_score=error_score)\n\u001b[0m\u001b[1;32m    391\u001b[0m     \u001b[0;32mreturn\u001b[0m \u001b[0mcv_results\u001b[0m\u001b[0;34m[\u001b[0m\u001b[0;34m'test_score'\u001b[0m\u001b[0;34m]\u001b[0m\u001b[0;34m\u001b[0m\u001b[0;34m\u001b[0m\u001b[0m\n\u001b[1;32m    392\u001b[0m \u001b[0;34m\u001b[0m\u001b[0m\n",
            "\u001b[0;32m/usr/local/lib/python3.6/dist-packages/sklearn/model_selection/_validation.py\u001b[0m in \u001b[0;36mcross_validate\u001b[0;34m(estimator, X, y, groups, scoring, cv, n_jobs, verbose, fit_params, pre_dispatch, return_train_score, return_estimator, error_score)\u001b[0m\n\u001b[1;32m    234\u001b[0m             \u001b[0mreturn_times\u001b[0m\u001b[0;34m=\u001b[0m\u001b[0;32mTrue\u001b[0m\u001b[0;34m,\u001b[0m \u001b[0mreturn_estimator\u001b[0m\u001b[0;34m=\u001b[0m\u001b[0mreturn_estimator\u001b[0m\u001b[0;34m,\u001b[0m\u001b[0;34m\u001b[0m\u001b[0;34m\u001b[0m\u001b[0m\n\u001b[1;32m    235\u001b[0m             error_score=error_score)\n\u001b[0;32m--> 236\u001b[0;31m         for train, test in cv.split(X, y, groups))\n\u001b[0m\u001b[1;32m    237\u001b[0m \u001b[0;34m\u001b[0m\u001b[0m\n\u001b[1;32m    238\u001b[0m     \u001b[0mzipped_scores\u001b[0m \u001b[0;34m=\u001b[0m \u001b[0mlist\u001b[0m\u001b[0;34m(\u001b[0m\u001b[0mzip\u001b[0m\u001b[0;34m(\u001b[0m\u001b[0;34m*\u001b[0m\u001b[0mscores\u001b[0m\u001b[0;34m)\u001b[0m\u001b[0;34m)\u001b[0m\u001b[0;34m\u001b[0m\u001b[0;34m\u001b[0m\u001b[0m\n",
            "\u001b[0;32m/usr/local/lib/python3.6/dist-packages/joblib/parallel.py\u001b[0m in \u001b[0;36m__call__\u001b[0;34m(self, iterable)\u001b[0m\n\u001b[1;32m   1059\u001b[0m \u001b[0;34m\u001b[0m\u001b[0m\n\u001b[1;32m   1060\u001b[0m             \u001b[0;32mwith\u001b[0m \u001b[0mself\u001b[0m\u001b[0;34m.\u001b[0m\u001b[0m_backend\u001b[0m\u001b[0;34m.\u001b[0m\u001b[0mretrieval_context\u001b[0m\u001b[0;34m(\u001b[0m\u001b[0;34m)\u001b[0m\u001b[0;34m:\u001b[0m\u001b[0;34m\u001b[0m\u001b[0;34m\u001b[0m\u001b[0m\n\u001b[0;32m-> 1061\u001b[0;31m                 \u001b[0mself\u001b[0m\u001b[0;34m.\u001b[0m\u001b[0mretrieve\u001b[0m\u001b[0;34m(\u001b[0m\u001b[0;34m)\u001b[0m\u001b[0;34m\u001b[0m\u001b[0;34m\u001b[0m\u001b[0m\n\u001b[0m\u001b[1;32m   1062\u001b[0m             \u001b[0;31m# Make sure that we get a last message telling us we are done\u001b[0m\u001b[0;34m\u001b[0m\u001b[0;34m\u001b[0m\u001b[0;34m\u001b[0m\u001b[0m\n\u001b[1;32m   1063\u001b[0m             \u001b[0melapsed_time\u001b[0m \u001b[0;34m=\u001b[0m \u001b[0mtime\u001b[0m\u001b[0;34m.\u001b[0m\u001b[0mtime\u001b[0m\u001b[0;34m(\u001b[0m\u001b[0;34m)\u001b[0m \u001b[0;34m-\u001b[0m \u001b[0mself\u001b[0m\u001b[0;34m.\u001b[0m\u001b[0m_start_time\u001b[0m\u001b[0;34m\u001b[0m\u001b[0;34m\u001b[0m\u001b[0m\n",
            "\u001b[0;32m/usr/local/lib/python3.6/dist-packages/joblib/parallel.py\u001b[0m in \u001b[0;36mretrieve\u001b[0;34m(self)\u001b[0m\n\u001b[1;32m    938\u001b[0m             \u001b[0;32mtry\u001b[0m\u001b[0;34m:\u001b[0m\u001b[0;34m\u001b[0m\u001b[0;34m\u001b[0m\u001b[0m\n\u001b[1;32m    939\u001b[0m                 \u001b[0;32mif\u001b[0m \u001b[0mgetattr\u001b[0m\u001b[0;34m(\u001b[0m\u001b[0mself\u001b[0m\u001b[0;34m.\u001b[0m\u001b[0m_backend\u001b[0m\u001b[0;34m,\u001b[0m \u001b[0;34m'supports_timeout'\u001b[0m\u001b[0;34m,\u001b[0m \u001b[0;32mFalse\u001b[0m\u001b[0;34m)\u001b[0m\u001b[0;34m:\u001b[0m\u001b[0;34m\u001b[0m\u001b[0;34m\u001b[0m\u001b[0m\n\u001b[0;32m--> 940\u001b[0;31m                     \u001b[0mself\u001b[0m\u001b[0;34m.\u001b[0m\u001b[0m_output\u001b[0m\u001b[0;34m.\u001b[0m\u001b[0mextend\u001b[0m\u001b[0;34m(\u001b[0m\u001b[0mjob\u001b[0m\u001b[0;34m.\u001b[0m\u001b[0mget\u001b[0m\u001b[0;34m(\u001b[0m\u001b[0mtimeout\u001b[0m\u001b[0;34m=\u001b[0m\u001b[0mself\u001b[0m\u001b[0;34m.\u001b[0m\u001b[0mtimeout\u001b[0m\u001b[0;34m)\u001b[0m\u001b[0;34m)\u001b[0m\u001b[0;34m\u001b[0m\u001b[0;34m\u001b[0m\u001b[0m\n\u001b[0m\u001b[1;32m    941\u001b[0m                 \u001b[0;32melse\u001b[0m\u001b[0;34m:\u001b[0m\u001b[0;34m\u001b[0m\u001b[0;34m\u001b[0m\u001b[0m\n\u001b[1;32m    942\u001b[0m                     \u001b[0mself\u001b[0m\u001b[0;34m.\u001b[0m\u001b[0m_output\u001b[0m\u001b[0;34m.\u001b[0m\u001b[0mextend\u001b[0m\u001b[0;34m(\u001b[0m\u001b[0mjob\u001b[0m\u001b[0;34m.\u001b[0m\u001b[0mget\u001b[0m\u001b[0;34m(\u001b[0m\u001b[0;34m)\u001b[0m\u001b[0;34m)\u001b[0m\u001b[0;34m\u001b[0m\u001b[0;34m\u001b[0m\u001b[0m\n",
            "\u001b[0;32m/usr/local/lib/python3.6/dist-packages/joblib/_parallel_backends.py\u001b[0m in \u001b[0;36mwrap_future_result\u001b[0;34m(future, timeout)\u001b[0m\n\u001b[1;32m    540\u001b[0m         AsyncResults.get from multiprocessing.\"\"\"\n\u001b[1;32m    541\u001b[0m         \u001b[0;32mtry\u001b[0m\u001b[0;34m:\u001b[0m\u001b[0;34m\u001b[0m\u001b[0;34m\u001b[0m\u001b[0m\n\u001b[0;32m--> 542\u001b[0;31m             \u001b[0;32mreturn\u001b[0m \u001b[0mfuture\u001b[0m\u001b[0;34m.\u001b[0m\u001b[0mresult\u001b[0m\u001b[0;34m(\u001b[0m\u001b[0mtimeout\u001b[0m\u001b[0;34m=\u001b[0m\u001b[0mtimeout\u001b[0m\u001b[0;34m)\u001b[0m\u001b[0;34m\u001b[0m\u001b[0;34m\u001b[0m\u001b[0m\n\u001b[0m\u001b[1;32m    543\u001b[0m         \u001b[0;32mexcept\u001b[0m \u001b[0mCfTimeoutError\u001b[0m \u001b[0;32mas\u001b[0m \u001b[0me\u001b[0m\u001b[0;34m:\u001b[0m\u001b[0;34m\u001b[0m\u001b[0;34m\u001b[0m\u001b[0m\n\u001b[1;32m    544\u001b[0m             \u001b[0;32mraise\u001b[0m \u001b[0mTimeoutError\u001b[0m \u001b[0;32mfrom\u001b[0m \u001b[0me\u001b[0m\u001b[0;34m\u001b[0m\u001b[0;34m\u001b[0m\u001b[0m\n",
            "\u001b[0;32m/usr/lib/python3.6/concurrent/futures/_base.py\u001b[0m in \u001b[0;36mresult\u001b[0;34m(self, timeout)\u001b[0m\n\u001b[1;32m    425\u001b[0m                 \u001b[0;32mreturn\u001b[0m \u001b[0mself\u001b[0m\u001b[0;34m.\u001b[0m\u001b[0m__get_result\u001b[0m\u001b[0;34m(\u001b[0m\u001b[0;34m)\u001b[0m\u001b[0;34m\u001b[0m\u001b[0;34m\u001b[0m\u001b[0m\n\u001b[1;32m    426\u001b[0m \u001b[0;34m\u001b[0m\u001b[0m\n\u001b[0;32m--> 427\u001b[0;31m             \u001b[0mself\u001b[0m\u001b[0;34m.\u001b[0m\u001b[0m_condition\u001b[0m\u001b[0;34m.\u001b[0m\u001b[0mwait\u001b[0m\u001b[0;34m(\u001b[0m\u001b[0mtimeout\u001b[0m\u001b[0;34m)\u001b[0m\u001b[0;34m\u001b[0m\u001b[0;34m\u001b[0m\u001b[0m\n\u001b[0m\u001b[1;32m    428\u001b[0m \u001b[0;34m\u001b[0m\u001b[0m\n\u001b[1;32m    429\u001b[0m             \u001b[0;32mif\u001b[0m \u001b[0mself\u001b[0m\u001b[0;34m.\u001b[0m\u001b[0m_state\u001b[0m \u001b[0;32min\u001b[0m \u001b[0;34m[\u001b[0m\u001b[0mCANCELLED\u001b[0m\u001b[0;34m,\u001b[0m \u001b[0mCANCELLED_AND_NOTIFIED\u001b[0m\u001b[0;34m]\u001b[0m\u001b[0;34m:\u001b[0m\u001b[0;34m\u001b[0m\u001b[0;34m\u001b[0m\u001b[0m\n",
            "\u001b[0;32m/usr/lib/python3.6/threading.py\u001b[0m in \u001b[0;36mwait\u001b[0;34m(self, timeout)\u001b[0m\n\u001b[1;32m    293\u001b[0m         \u001b[0;32mtry\u001b[0m\u001b[0;34m:\u001b[0m    \u001b[0;31m# restore state no matter what (e.g., KeyboardInterrupt)\u001b[0m\u001b[0;34m\u001b[0m\u001b[0;34m\u001b[0m\u001b[0m\n\u001b[1;32m    294\u001b[0m             \u001b[0;32mif\u001b[0m \u001b[0mtimeout\u001b[0m \u001b[0;32mis\u001b[0m \u001b[0;32mNone\u001b[0m\u001b[0;34m:\u001b[0m\u001b[0;34m\u001b[0m\u001b[0;34m\u001b[0m\u001b[0m\n\u001b[0;32m--> 295\u001b[0;31m                 \u001b[0mwaiter\u001b[0m\u001b[0;34m.\u001b[0m\u001b[0macquire\u001b[0m\u001b[0;34m(\u001b[0m\u001b[0;34m)\u001b[0m\u001b[0;34m\u001b[0m\u001b[0;34m\u001b[0m\u001b[0m\n\u001b[0m\u001b[1;32m    296\u001b[0m                 \u001b[0mgotit\u001b[0m \u001b[0;34m=\u001b[0m \u001b[0;32mTrue\u001b[0m\u001b[0;34m\u001b[0m\u001b[0;34m\u001b[0m\u001b[0m\n\u001b[1;32m    297\u001b[0m             \u001b[0;32melse\u001b[0m\u001b[0;34m:\u001b[0m\u001b[0;34m\u001b[0m\u001b[0;34m\u001b[0m\u001b[0m\n",
            "\u001b[0;31mKeyboardInterrupt\u001b[0m: "
          ]
        }
      ]
    },
    {
      "cell_type": "code",
      "metadata": {
        "colab": {
          "base_uri": "https://localhost:8080/"
        },
        "id": "7e0E701xwx0R",
        "outputId": "32dec462-c41a-4d6a-d31c-d62f7d552218"
      },
      "source": [
        "import sklearn.metrics\n",
        "from sklearn.metrics import r2_score\n",
        "sorted(sklearn.metrics.SCORERS.keys())"
      ],
      "execution_count": null,
      "outputs": [
        {
          "output_type": "execute_result",
          "data": {
            "text/plain": [
              "['accuracy',\n",
              " 'adjusted_mutual_info_score',\n",
              " 'adjusted_rand_score',\n",
              " 'average_precision',\n",
              " 'balanced_accuracy',\n",
              " 'completeness_score',\n",
              " 'explained_variance',\n",
              " 'f1',\n",
              " 'f1_macro',\n",
              " 'f1_micro',\n",
              " 'f1_samples',\n",
              " 'f1_weighted',\n",
              " 'fowlkes_mallows_score',\n",
              " 'homogeneity_score',\n",
              " 'jaccard',\n",
              " 'jaccard_macro',\n",
              " 'jaccard_micro',\n",
              " 'jaccard_samples',\n",
              " 'jaccard_weighted',\n",
              " 'max_error',\n",
              " 'mutual_info_score',\n",
              " 'neg_brier_score',\n",
              " 'neg_log_loss',\n",
              " 'neg_mean_absolute_error',\n",
              " 'neg_mean_gamma_deviance',\n",
              " 'neg_mean_poisson_deviance',\n",
              " 'neg_mean_squared_error',\n",
              " 'neg_mean_squared_log_error',\n",
              " 'neg_median_absolute_error',\n",
              " 'neg_root_mean_squared_error',\n",
              " 'normalized_mutual_info_score',\n",
              " 'precision',\n",
              " 'precision_macro',\n",
              " 'precision_micro',\n",
              " 'precision_samples',\n",
              " 'precision_weighted',\n",
              " 'r2',\n",
              " 'recall',\n",
              " 'recall_macro',\n",
              " 'recall_micro',\n",
              " 'recall_samples',\n",
              " 'recall_weighted',\n",
              " 'roc_auc',\n",
              " 'roc_auc_ovo',\n",
              " 'roc_auc_ovo_weighted',\n",
              " 'roc_auc_ovr',\n",
              " 'roc_auc_ovr_weighted',\n",
              " 'v_measure_score']"
            ]
          },
          "metadata": {
            "tags": []
          },
          "execution_count": 32
        }
      ]
    },
    {
      "cell_type": "code",
      "metadata": {
        "colab": {
          "base_uri": "https://localhost:8080/",
          "height": 333
        },
        "id": "bNzEohUkR2Vp",
        "outputId": "a18be2ab-df0d-4660-fc98-584b2168cde5"
      },
      "source": [
        "from numpy import mean\n",
        "from numpy import std\n",
        "from sklearn.datasets import make_regression\n",
        "from sklearn.model_selection import cross_val_score\n",
        "from sklearn.model_selection import RepeatedKFold\n",
        "from sklearn.linear_model import LinearRegression\n",
        "from sklearn.neighbors import KNeighborsRegressor\n",
        "from sklearn.tree import DecisionTreeRegressor\n",
        "from sklearn.svm import SVR\n",
        "from sklearn.ensemble import RandomForestRegressor\n",
        "from sklearn.ensemble import StackingRegressor\n",
        "from xgboost import XGBRegressor\n",
        "from matplotlib import pyplot\n",
        "\n",
        "# get the dataset\n",
        "def get_dataset():\n",
        "\tX, y = make_regression(n_samples=1000, n_features=20, n_informative=15, noise=0.1, random_state=1)\n",
        "\treturn X, y\n",
        "\n",
        "# get a stacking ensemble of models\n",
        "def get_stacking():\n",
        "\t# define the base models\n",
        "\tlevel0 = list()\n",
        "\tlevel0.append(('xgb',XGBRegressor( \n",
        "          colsample_bytree=0.7, learning_rate=0.05, \n",
        "          max_depth=6, min_child_weight=4,  n_estimators=500,\n",
        "          nthread=4, objective='reg:linear', seed= 42,\n",
        "          reg_alpha=0, reg_lambda=1, \n",
        "          silent=True, subsample=0.7)))\n",
        "\tlevel0.append(('lgb', lgb.LGBMRegressor(objective='regression',num_leaves=35, n_estimators=300)))\n",
        "\tlevel0.append(('rf', RandomForestRegressor(n_estimators=100, \n",
        "                               bootstrap = True,\n",
        "                               max_features = 'sqrt')))\n",
        "\t# define meta learner model\n",
        "\tlevel1 = LinearRegression()\n",
        "\t# define the stacking ensemble\n",
        "\tmodel = StackingRegressor(estimators=level0, final_estimator=level1, cv=2)\n",
        "\treturn model\n",
        "\n",
        "# get a list of models to evaluate\n",
        "def get_models():\n",
        "\tmodels = dict()\n",
        "\tmodels['xgb'] = XGBRegressor( \n",
        "          colsample_bytree=0.7, learning_rate=0.05, \n",
        "          max_depth=6, min_child_weight=4,  n_estimators=500,\n",
        "          nthread=4, objective='reg:linear', seed= 42,\n",
        "          reg_alpha=0, reg_lambda=1, \n",
        "          silent=True, subsample=0.7)\n",
        "\tmodels['lgb'] = lgb.LGBMRegressor(objective='regression',num_leaves=35, n_estimators=300)\n",
        "\tmodels['rf'] = RandomForestRegressor(n_estimators=100, \n",
        "                               bootstrap = True,\n",
        "                               max_features = 'sqrt')\n",
        "\tmodels['stacking'] = get_stacking()\n",
        "\treturn models\n",
        "\n",
        "# evaluate a given model using cross-validation\n",
        "def evaluate_model(model, X, y):\n",
        "\tcv = RepeatedKFold(n_splits=2, n_repeats=1, random_state=1)\n",
        "\t#scores = cross_val_score(model, X, y, scoring='r2', cv=cv, n_jobs=-1, error_score='raise')\n",
        "\tscores = cross_val_score(model, X, y, scoring='r2', cv=cv, n_jobs=-1, error_score='raise')\n",
        "\treturn scores\n",
        "\n",
        "# define dataset\n",
        "X, y = X_train, y_train#get_dataset()\n",
        "# get the models to evaluate\n",
        "models = get_models()\n",
        "# evaluate the models and store results\n",
        "results, names = list(), list()\n",
        "for name, model in models.items():\n",
        "\tscores = evaluate_model(model, X_train, y_train)\n",
        "\tresults.append(scores)\n",
        "\tnames.append(name)\n",
        "\tprint('>%s %.3f (%.3f)' % (name, mean(scores), std(scores)))\n",
        "# plot model performance for comparison\n",
        "pyplot.boxplot(results, labels=names, showmeans=True)\n",
        "pyplot.show()"
      ],
      "execution_count": null,
      "outputs": [
        {
          "output_type": "stream",
          "text": [
            ">xgb 0.508 (0.011)\n",
            ">lgb 0.541 (0.010)\n",
            ">rf 0.524 (0.015)\n",
            ">stacking 0.514 (0.013)\n"
          ],
          "name": "stdout"
        },
        {
          "output_type": "display_data",
          "data": {
            "image/png": "[encoded data removed]",
            "text/plain": [
              "<Figure size 432x288 with 1 Axes>"
            ]
          },
          "metadata": {
            "tags": []
          }
        }
      ]
    },
    {
      "cell_type": "code",
      "metadata": {
        "colab": {
          "base_uri": "https://localhost:8080/",
          "height": 232
        },
        "id": "Rsk_pUj4aKjl",
        "outputId": "5efa91ae-e189-4141-80e4-b00991746d13"
      },
      "source": [
        "# y_train_pred = models.predict(X_train)\n",
        "# y_test_pred = models.predict(X_test.iloc[:,:9])\n",
        "# print(\"Training: {}\".format(mean_squared_error(y_train_pred,y_train, squared=False)))\n",
        "# print(\"Test: {}\".format(mean_squared_error(y_test_pred,y_test, squared=False)))\n",
        "# print(\"Training: {}\".format(r2_score(y_train_pred,y_train)))\n",
        "# print(\"Test: {}\".format(r2_score(y_test_pred,y_test)))"
      ],
      "execution_count": null,
      "outputs": [
        {
          "output_type": "error",
          "ename": "AttributeError",
          "evalue": "ignored",
          "traceback": [
            "\u001b[0;31m---------------------------------------------------------------------------\u001b[0m",
            "\u001b[0;31mAttributeError\u001b[0m                            Traceback (most recent call last)",
            "\u001b[0;32m<ipython-input-42-0ce2e6abe7c3>\u001b[0m in \u001b[0;36m<module>\u001b[0;34m()\u001b[0m\n\u001b[0;32m----> 1\u001b[0;31m \u001b[0my_train_pred\u001b[0m \u001b[0;34m=\u001b[0m \u001b[0mmodels\u001b[0m\u001b[0;34m.\u001b[0m\u001b[0mpredict\u001b[0m\u001b[0;34m(\u001b[0m\u001b[0mX_train\u001b[0m\u001b[0;34m)\u001b[0m\u001b[0;34m\u001b[0m\u001b[0;34m\u001b[0m\u001b[0m\n\u001b[0m\u001b[1;32m      2\u001b[0m \u001b[0my_test_pred\u001b[0m \u001b[0;34m=\u001b[0m \u001b[0mmodels\u001b[0m\u001b[0;34m.\u001b[0m\u001b[0mpredict\u001b[0m\u001b[0;34m(\u001b[0m\u001b[0mX_test\u001b[0m\u001b[0;34m.\u001b[0m\u001b[0miloc\u001b[0m\u001b[0;34m[\u001b[0m\u001b[0;34m:\u001b[0m\u001b[0;34m,\u001b[0m\u001b[0;34m:\u001b[0m\u001b[0;36m9\u001b[0m\u001b[0;34m]\u001b[0m\u001b[0;34m)\u001b[0m\u001b[0;34m\u001b[0m\u001b[0;34m\u001b[0m\u001b[0m\n\u001b[1;32m      3\u001b[0m \u001b[0mprint\u001b[0m\u001b[0;34m(\u001b[0m\u001b[0;34m\"Training: {}\"\u001b[0m\u001b[0;34m.\u001b[0m\u001b[0mformat\u001b[0m\u001b[0;34m(\u001b[0m\u001b[0mmean_squared_error\u001b[0m\u001b[0;34m(\u001b[0m\u001b[0my_train_pred\u001b[0m\u001b[0;34m,\u001b[0m\u001b[0my_train\u001b[0m\u001b[0;34m,\u001b[0m \u001b[0msquared\u001b[0m\u001b[0;34m=\u001b[0m\u001b[0;32mFalse\u001b[0m\u001b[0;34m)\u001b[0m\u001b[0;34m)\u001b[0m\u001b[0;34m)\u001b[0m\u001b[0;34m\u001b[0m\u001b[0;34m\u001b[0m\u001b[0m\n\u001b[1;32m      4\u001b[0m \u001b[0mprint\u001b[0m\u001b[0;34m(\u001b[0m\u001b[0;34m\"Test: {}\"\u001b[0m\u001b[0;34m.\u001b[0m\u001b[0mformat\u001b[0m\u001b[0;34m(\u001b[0m\u001b[0mmean_squared_error\u001b[0m\u001b[0;34m(\u001b[0m\u001b[0my_test_pred\u001b[0m\u001b[0;34m,\u001b[0m\u001b[0my_test\u001b[0m\u001b[0;34m,\u001b[0m \u001b[0msquared\u001b[0m\u001b[0;34m=\u001b[0m\u001b[0;32mFalse\u001b[0m\u001b[0;34m)\u001b[0m\u001b[0;34m)\u001b[0m\u001b[0;34m)\u001b[0m\u001b[0;34m\u001b[0m\u001b[0;34m\u001b[0m\u001b[0m\n\u001b[1;32m      5\u001b[0m \u001b[0mprint\u001b[0m\u001b[0;34m(\u001b[0m\u001b[0;34m\"Training: {}\"\u001b[0m\u001b[0;34m.\u001b[0m\u001b[0mformat\u001b[0m\u001b[0;34m(\u001b[0m\u001b[0mr2_score\u001b[0m\u001b[0;34m(\u001b[0m\u001b[0my_train_pred\u001b[0m\u001b[0;34m,\u001b[0m\u001b[0my_train\u001b[0m\u001b[0;34m)\u001b[0m\u001b[0;34m)\u001b[0m\u001b[0;34m)\u001b[0m\u001b[0;34m\u001b[0m\u001b[0;34m\u001b[0m\u001b[0m\n",
            "\u001b[0;31mAttributeError\u001b[0m: 'dict' object has no attribute 'predict'"
          ]
        }
      ]
    },
    {
      "cell_type": "code",
      "metadata": {
        "id": "k3iEYhfF8U0l"
      },
      "source": [
        "# import pickle\n",
        "\n",
        "# filename = 'finalized_model.sav'\n",
        "# pickle.dump(models, open(filename, 'wb'))\n"
      ],
      "execution_count": null,
      "outputs": []
    },
    {
      "cell_type": "code",
      "metadata": {
        "id": "S7ZZ0yNUEzgV"
      },
      "source": [
        "#this is the one!\n",
        "from numpy import mean\n",
        "from numpy import std\n",
        "from sklearn.datasets import make_regression\n",
        "from sklearn.model_selection import cross_val_score\n",
        "from sklearn.model_selection import RepeatedKFold\n",
        "from sklearn.linear_model import LinearRegression\n",
        "from sklearn.neighbors import KNeighborsRegressor\n",
        "from sklearn.tree import DecisionTreeRegressor\n",
        "from sklearn.svm import SVR\n",
        "from sklearn.ensemble import RandomForestRegressor\n",
        "from sklearn.ensemble import StackingRegressor\n",
        "from xgboost import XGBRegressor\n",
        "from matplotlib import pyplot\n",
        "\n",
        "def get_stacking():\n",
        "\t# define the base models\n",
        "\tlevel0 = list()\n",
        "\tlevel0.append(('xgb',XGBRegressor( \n",
        "          colsample_bytree=0.7, learning_rate=0.05, \n",
        "          max_depth=6, min_child_weight=4,  n_estimators=500,\n",
        "          nthread=4, objective='reg:linear', seed= 42,\n",
        "          reg_alpha=0, reg_lambda=1, \n",
        "          silent=True, subsample=0.7)))\n",
        "\tlevel0.append(('lgb', lgb.LGBMRegressor(objective='regression',num_leaves=35, n_estimators=300)))\n",
        "\tlevel0.append(('rf', RandomForestRegressor(n_estimators=100, \n",
        "                               bootstrap = True,\n",
        "                               max_features = 'sqrt')))\n",
        "\t# define meta learner model\n",
        "\t# level1 = LinearRegression()\n",
        "\tlevel1 = XGBRegressor( \n",
        "          colsample_bytree=0.7, learning_rate=0.05, \n",
        "          max_depth=6, min_child_weight=4,  n_estimators=500,\n",
        "          nthread=4, objective='reg:linear', seed= 42,\n",
        "          reg_alpha=0, reg_lambda=1, \n",
        "          silent=True, subsample=0.7)\n",
        "\t# define the stacking ensemble\n",
        "\tmodel = StackingRegressor(estimators=level0, final_estimator=level1, cv=2)\n",
        "\treturn model\n"
      ],
      "execution_count": null,
      "outputs": []
    },
    {
      "cell_type": "code",
      "metadata": {
        "id": "7IShYsptiLnP"
      },
      "source": [
        "#Required!!\n",
        "from sklearn.linear_model import ElasticNet, Lasso,  BayesianRidge, LassoLarsIC\n",
        "from sklearn.ensemble import RandomForestRegressor,  GradientBoostingRegressor\n",
        "from sklearn.kernel_ridge import KernelRidge\n",
        "from sklearn.pipeline import make_pipeline\n",
        "from sklearn.preprocessing import RobustScaler\n",
        "from sklearn.base import BaseEstimator, TransformerMixin, RegressorMixin, clone\n",
        "from sklearn.model_selection import KFold, cross_val_score, train_test_split\n",
        "from sklearn.metrics import mean_squared_error\n",
        "import xgboost as xgb\n",
        "import lightgbm as lgb"
      ],
      "execution_count": null,
      "outputs": []
    },
    {
      "cell_type": "code",
      "metadata": {
        "colab": {
          "base_uri": "https://localhost:8080/"
        },
        "id": "I1VngEzes1pJ",
        "outputId": "bb47eeaf-b7b9-4c99-f693-8eb5560c8635"
      },
      "source": [
        "# reg = get_stacking().fit(X_train, y_train)\n",
        "regr = make_pipeline(StandardScaler(), get_stacking())\n",
        "regr.fit(X_train, y_train)"
      ],
      "execution_count": null,
      "outputs": [
        {
          "output_type": "stream",
          "text": [
            "/usr/local/lib/python3.6/dist-packages/sklearn/ensemble/_stacking.py:642: DataConversionWarning: A column-vector y was passed when a 1d array was expected. Please change the shape of y to (n_samples, ), for example using ravel().\n",
            "  y = column_or_1d(y, warn=True)\n"
          ],
          "name": "stderr"
        }
      ]
    },
    {
      "cell_type": "code",
      "metadata": {
        "colab": {
          "background_save": true
        },
        "id": "srjdGyOFUZpV",
        "outputId": "aa6f83b6-5b2b-4641-c8e6-8834ec37749c"
      },
      "source": [
        "y_pred = regr.predict(X_test)\n",
        "mae = median_absolute_error(y_test, y_pred)\n",
        "print(mae)\n",
        "mse = mean_squared_error(y_test, y_pred, squared=False)\n",
        "print(mse)"
      ],
      "execution_count": null,
      "outputs": [
        {
          "output_type": "stream",
          "text": [
            "5.735217240823282\n",
            "22.706250369643467\n"
          ],
          "name": "stdout"
        }
      ]
    },
    {
      "cell_type": "code",
      "metadata": {
        "colab": {
          "background_save": true
        },
        "id": "B1m_IPqDWHst",
        "outputId": "af71c223-2c9f-491f-ad3d-c3eb092a24af"
      },
      "source": [
        "from sklearn.metrics import r2_score\n",
        "r2_score(y_test,y_pred)"
      ],
      "execution_count": null,
      "outputs": [
        {
          "output_type": "execute_result",
          "data": {
            "text/plain": [
              "0.4377926239678973"
            ]
          },
          "metadata": {
            "tags": []
          },
          "execution_count": 0
        }
      ]
    },
    {
      "cell_type": "code",
      "metadata": {
        "colab": {
          "base_uri": "https://localhost:8080/"
        },
        "id": "_PzZTEETbr3h",
        "outputId": "1d106875-663a-4edf-8452-0ca3258a7886"
      },
      "source": [
        "!ls /content/drive"
      ],
      "execution_count": null,
      "outputs": [
        {
          "output_type": "stream",
          "text": [
            "MyDrive\n"
          ],
          "name": "stdout"
        }
      ]
    },
    {
      "cell_type": "code",
      "metadata": {
        "id": "COIwI7FNaeAr"
      },
      "source": [
        "import pickle\n",
        "filename = '/content/drive/My Drive/UNICEF/finalized_model_no_pop_den.sav'\n",
        "pickle.dump(regr, open(filename, 'wb'))"
      ],
      "execution_count": null,
      "outputs": []
    },
    {
      "cell_type": "code",
      "metadata": {
        "id": "jqbQGovoTBSG"
      },
      "source": [
        "y_train_pred = reg.predict(X_train)\n",
        "y_test_pred = reg.predict(X_test.iloc[:,:9])"
      ],
      "execution_count": null,
      "outputs": []
    },
    {
      "cell_type": "code",
      "metadata": {
        "colab": {
          "base_uri": "https://localhost:8080/"
        },
        "id": "-3XU0edgUi5k",
        "outputId": "2180a274-679a-4691-f01f-99c7aa5dd642"
      },
      "source": [
        "from sklearn.metrics import r2_score\n",
        "print(\"Training: {}\".format(mean_squared_error(y_train_pred,y_train, squared=False)))\n",
        "print(\"Test: {}\".format(mean_squared_error(y_test_pred,y_test, squared=False)))\n",
        "print(\"Training: {}\".format(r2_score(y_train_pred,y_train)))\n",
        "print(\"Test: {}\".format(r2_score(y_test_pred,y_test)))"
      ],
      "execution_count": null,
      "outputs": [
        {
          "output_type": "stream",
          "text": [
            "Training: 18.885998720334317\n",
            "Test: 20.92220486846628\n",
            "Training: 0.10330109455577619\n",
            "Test: 0.11271265290928623\n"
          ],
          "name": "stdout"
        }
      ]
    },
    {
      "cell_type": "code",
      "metadata": {
        "colab": {
          "base_uri": "https://localhost:8080/",
          "height": 537
        },
        "id": "hZKxrNLPug-T",
        "outputId": "7e01e660-0e88-4dcf-f15d-d2393db669de"
      },
      "source": [
        "fig, ax = plt.subplots(figsize=(20,10))\n",
        "ax.scatter(X_train.index,y_train)\n",
        "ax.scatter(X_train.index,y_train_pred)\n",
        "ax.legend(['Actual','Predicted'])"
      ],
      "execution_count": null,
      "outputs": [
        {
          "output_type": "execute_result",
          "data": {
            "text/plain": [
              "<matplotlib.legend.Legend at 0x7f9110f945c0>"
            ]
          },
          "metadata": {
            "tags": []
          },
          "execution_count": 50
        },
        {
          "output_type": "display_data",
          "data": {
            "image/png": "[encoded data removed]",
            "text/plain": [
              "<Figure size 1440x720 with 1 Axes>"
            ]
          },
          "metadata": {
            "tags": []
          }
        }
      ]
    },
    {
      "cell_type": "code",
      "metadata": {
        "colab": {
          "base_uri": "https://localhost:8080/",
          "height": 540
        },
        "id": "bM4hRkq6urEw",
        "outputId": "e1684139-4feb-4736-c5b9-9a41aff45317"
      },
      "source": [
        "fig, ax = plt.subplots(figsize=(20,10))\n",
        "ax.scatter(X_test.index,y_test)\n",
        "ax.scatter(X_test.index,y_test_pred)\n",
        "ax.legend(['Actual','Predicted'])"
      ],
      "execution_count": null,
      "outputs": [
        {
          "output_type": "execute_result",
          "data": {
            "text/plain": [
              "<matplotlib.legend.Legend at 0x7f9110f0f320>"
            ]
          },
          "metadata": {
            "tags": []
          },
          "execution_count": 51
        },
        {
          "output_type": "display_data",
          "data": {
            "image/png": "[encoded data removed]",
            "text/plain": [
              "<Figure size 1440x720 with 1 Axes>"
            ]
          },
          "metadata": {
            "tags": []
          }
        }
      ]
    },
    {
      "cell_type": "code",
      "metadata": {
        "id": "J5UofJXzTBbe"
      },
      "source": [
        "###Start with the peru prediction?\n",
        "df_peru = pd.read_csv('peru_sensor_city_merged_data_mar_aug.csv')"
      ],
      "execution_count": null,
      "outputs": []
    },
    {
      "cell_type": "code",
      "metadata": {
        "colab": {
          "base_uri": "https://localhost:8080/",
          "height": 394
        },
        "id": "hlIqS29ETBlr",
        "outputId": "6f0189e0-94e4-42af-98a9-4cdeedae1bf8"
      },
      "source": [
        "df_peru.head()"
      ],
      "execution_count": null,
      "outputs": [
        {
          "output_type": "execute_result",
          "data": {
            "text/html": [
              "<div>\n",
              "<style scoped>\n",
              "    .dataframe tbody tr th:only-of-type {\n",
              "        vertical-align: middle;\n",
              "    }\n",
              "\n",
              "    .dataframe tbody tr th {\n",
              "        vertical-align: top;\n",
              "    }\n",
              "\n",
              "    .dataframe thead th {\n",
              "        text-align: right;\n",
              "    }\n",
              "</style>\n",
              "<table border=\"1\" class=\"dataframe\">\n",
              "  <thead>\n",
              "    <tr style=\"text-align: right;\">\n",
              "      <th></th>\n",
              "      <th>timestamp</th>\n",
              "      <th>PM25</th>\n",
              "      <th>latitude</th>\n",
              "      <th>longitude</th>\n",
              "      <th>week_x</th>\n",
              "      <th>PRECIP_Sensor</th>\n",
              "      <th>POP_DEN_Sensor</th>\n",
              "      <th>AOD_Sensor</th>\n",
              "      <th>NO2_Sensor</th>\n",
              "      <th>PRECIP_City</th>\n",
              "      <th>AOD_City</th>\n",
              "      <th>NO2_City</th>\n",
              "      <th>POP_DEN_City</th>\n",
              "      <th>Avg_POP_DEN</th>\n",
              "    </tr>\n",
              "  </thead>\n",
              "  <tbody>\n",
              "    <tr>\n",
              "      <th>0</th>\n",
              "      <td>17/03/20</td>\n",
              "      <td>16.140243</td>\n",
              "      <td>-12.1097</td>\n",
              "      <td>-77.0519</td>\n",
              "      <td>2020-03-17_2020-03-24</td>\n",
              "      <td>0.002912</td>\n",
              "      <td>5025.667969</td>\n",
              "      <td>101.842857</td>\n",
              "      <td>0.000021</td>\n",
              "      <td>0.005618</td>\n",
              "      <td>53.557736</td>\n",
              "      <td>0.000014</td>\n",
              "      <td>573.276428</td>\n",
              "      <td>25</td>\n",
              "    </tr>\n",
              "    <tr>\n",
              "      <th>1</th>\n",
              "      <td>24/03/20</td>\n",
              "      <td>15.744527</td>\n",
              "      <td>-12.1097</td>\n",
              "      <td>-77.0519</td>\n",
              "      <td>2020-03-24_2020-03-31</td>\n",
              "      <td>0.015290</td>\n",
              "      <td>5025.667969</td>\n",
              "      <td>153.209375</td>\n",
              "      <td>0.000022</td>\n",
              "      <td>0.016425</td>\n",
              "      <td>83.177394</td>\n",
              "      <td>0.000016</td>\n",
              "      <td>573.276428</td>\n",
              "      <td>25</td>\n",
              "    </tr>\n",
              "    <tr>\n",
              "      <th>2</th>\n",
              "      <td>31/03/20</td>\n",
              "      <td>15.615435</td>\n",
              "      <td>-12.1097</td>\n",
              "      <td>-77.0519</td>\n",
              "      <td>2020-03-31_2020-04-07</td>\n",
              "      <td>0.027365</td>\n",
              "      <td>5025.667969</td>\n",
              "      <td>147.629306</td>\n",
              "      <td>0.000023</td>\n",
              "      <td>0.017716</td>\n",
              "      <td>61.845249</td>\n",
              "      <td>0.000016</td>\n",
              "      <td>573.276428</td>\n",
              "      <td>25</td>\n",
              "    </tr>\n",
              "    <tr>\n",
              "      <th>3</th>\n",
              "      <td>07/04/20</td>\n",
              "      <td>21.802438</td>\n",
              "      <td>-12.1097</td>\n",
              "      <td>-77.0519</td>\n",
              "      <td>2020-04-07_2020-04-14</td>\n",
              "      <td>0.000000</td>\n",
              "      <td>5025.667969</td>\n",
              "      <td>119.308542</td>\n",
              "      <td>0.000021</td>\n",
              "      <td>0.000322</td>\n",
              "      <td>63.577451</td>\n",
              "      <td>0.000014</td>\n",
              "      <td>573.276428</td>\n",
              "      <td>25</td>\n",
              "    </tr>\n",
              "    <tr>\n",
              "      <th>4</th>\n",
              "      <td>14/04/20</td>\n",
              "      <td>19.419179</td>\n",
              "      <td>-12.1097</td>\n",
              "      <td>-77.0519</td>\n",
              "      <td>2020-04-14_2020-04-21</td>\n",
              "      <td>0.000042</td>\n",
              "      <td>5025.667969</td>\n",
              "      <td>69.069129</td>\n",
              "      <td>0.000022</td>\n",
              "      <td>0.000448</td>\n",
              "      <td>34.772960</td>\n",
              "      <td>0.000016</td>\n",
              "      <td>573.276428</td>\n",
              "      <td>25</td>\n",
              "    </tr>\n",
              "  </tbody>\n",
              "</table>\n",
              "</div>"
            ],
            "text/plain": [
              "  timestamp       PM25  latitude  ...  NO2_City POP_DEN_City  Avg_POP_DEN\n",
              "0  17/03/20  16.140243  -12.1097  ...  0.000014   573.276428           25\n",
              "1  24/03/20  15.744527  -12.1097  ...  0.000016   573.276428           25\n",
              "2  31/03/20  15.615435  -12.1097  ...  0.000016   573.276428           25\n",
              "3  07/04/20  21.802438  -12.1097  ...  0.000014   573.276428           25\n",
              "4  14/04/20  19.419179  -12.1097  ...  0.000016   573.276428           25\n",
              "\n",
              "[5 rows x 14 columns]"
            ]
          },
          "metadata": {
            "tags": []
          },
          "execution_count": 35
        }
      ]
    },
    {
      "cell_type": "code",
      "metadata": {
        "colab": {
          "base_uri": "https://localhost:8080/"
        },
        "id": "VXDaF2tlTBtB",
        "outputId": "e2bccf2e-df9b-4d01-8561-eb89628b4e4a"
      },
      "source": [
        "X_peru = df_peru.iloc[:,5:]\n",
        "y_peru=df_peru['PM25']\n",
        "\n",
        "X_peru.rename(columns={'PRECIP_City':'city_PRECIP', 'AOD_City':'city_AOD', 'NO2_City':'city_NO2', \n",
        "       'POP_DEN_City':'city_POP_DEN', 'Avg_POP_DEN':'average_population_density'},inplace=True)\n",
        "\n",
        "X_peru = X_peru[['POP_DEN_Sensor', 'AOD_Sensor', 'PRECIP_Sensor', 'NO2_Sensor',\n",
        "       'city_PRECIP', 'city_AOD', 'city_NO2', 'city_POP_DEN',\n",
        "       'average_population_density']]\n",
        "# X_peru.iloc[:,0], X_peru.iloc[:,1] = X_peru.iloc[:,1], X_peru.iloc[:,0]"
      ],
      "execution_count": null,
      "outputs": [
        {
          "output_type": "stream",
          "text": [
            "Index(['POP_DEN_Sensor', 'AOD_Sensor', 'PRECIP_Sensor', 'NO2_Sensor',\n",
            "       'city_PRECIP', 'city_AOD', 'city_NO2', 'city_POP_DEN',\n",
            "       'average_population_density'],\n",
            "      dtype='object')\n",
            "Index(['POP_DEN_Sensor', 'AOD_Sensor', 'PRECIP_Sensor', 'NO2_Sensor',\n",
            "       'city_PRECIP', 'city_AOD', 'city_NO2', 'city_POP_DEN',\n",
            "       'average_population_density'],\n",
            "      dtype='object')\n"
          ],
          "name": "stdout"
        }
      ]
    },
    {
      "cell_type": "code",
      "metadata": {
        "colab": {
          "base_uri": "https://localhost:8080/"
        },
        "id": "A-ZUdUidn-B4",
        "outputId": "98501c5b-f9d5-4766-b393-2dff0ff15b39"
      },
      "source": [
        "print(X_peru.columns)\n",
        "print(X_train.columns)"
      ],
      "execution_count": null,
      "outputs": [
        {
          "output_type": "stream",
          "text": [
            "Index(['POP_DEN_Sensor', 'AOD_Sensor', 'PRECIP_Sensor', 'NO2_Sensor',\n",
            "       'city_PRECIP', 'city_AOD', 'city_NO2', 'city_POP_DEN',\n",
            "       'average_population_density'],\n",
            "      dtype='object')\n",
            "Index(['POP_DEN_Sensor', 'AOD_Sensor', 'PRECIP_Sensor', 'NO2_Sensor',\n",
            "       'city_PRECIP', 'city_AOD', 'city_NO2', 'city_POP_DEN',\n",
            "       'average_population_density'],\n",
            "      dtype='object')\n"
          ],
          "name": "stdout"
        }
      ]
    },
    {
      "cell_type": "code",
      "metadata": {
        "colab": {
          "base_uri": "https://localhost:8080/"
        },
        "id": "UJCM_EjOTB2-",
        "outputId": "1d38b0df-0573-47a8-d233-b7cf271d0b77"
      },
      "source": [
        "print(X_peru.head())\n",
        "print(y_peru.head())"
      ],
      "execution_count": null,
      "outputs": [
        {
          "output_type": "stream",
          "text": [
            "   POP_DEN_Sensor  AOD_Sensor  ...  city_POP_DEN  average_population_density\n",
            "0     5025.667969  101.842857  ...    573.276428                          25\n",
            "1     5025.667969  153.209375  ...    573.276428                          25\n",
            "2     5025.667969  147.629306  ...    573.276428                          25\n",
            "3     5025.667969  119.308542  ...    573.276428                          25\n",
            "4     5025.667969   69.069129  ...    573.276428                          25\n",
            "\n",
            "[5 rows x 9 columns]\n",
            "0    16.140243\n",
            "1    15.744527\n",
            "2    15.615435\n",
            "3    21.802438\n",
            "4    19.419179\n",
            "Name: PM25, dtype: float64\n"
          ],
          "name": "stdout"
        }
      ]
    },
    {
      "cell_type": "code",
      "metadata": {
        "id": "3NAiy9WSejHD"
      },
      "source": [
        "y_peru_pred = reg.predict(X_peru)"
      ],
      "execution_count": null,
      "outputs": []
    },
    {
      "cell_type": "code",
      "metadata": {
        "colab": {
          "base_uri": "https://localhost:8080/"
        },
        "id": "UIASS0Q1TByI",
        "outputId": "888e7981-df64-4103-ed23-25da707d27b3"
      },
      "source": [
        "print(\"Peru Validation: {}\".format(mean_squared_error(y_peru_pred,y_peru, squared=False)))\n",
        "print(\"Peru Validation: {}\".format(r2_score(y_peru_pred,y_peru)))"
      ],
      "execution_count": null,
      "outputs": [
        {
          "output_type": "stream",
          "text": [
            "Peru Validation: 12.745925229330666\n",
            "Peru Validation: -9.948507817048576\n"
          ],
          "name": "stdout"
        }
      ]
    },
    {
      "cell_type": "code",
      "metadata": {
        "colab": {
          "base_uri": "https://localhost:8080/",
          "height": 543
        },
        "id": "BPCJ0JXkTBiv",
        "outputId": "6ee8cbca-f6e8-4e14-9cf6-4b02f3aedd8b"
      },
      "source": [
        "fig, ax = plt.subplots(figsize=(20,10))\n",
        "ax.scatter(X_peru.index,y_peru) \n",
        "ax.scatter(X_peru.index,y_peru_pred) \n",
        "ax.legend(['Actual','Predicted'])"
      ],
      "execution_count": null,
      "outputs": [
        {
          "output_type": "execute_result",
          "data": {
            "text/plain": [
              "<matplotlib.legend.Legend at 0x7f9123eb8048>"
            ]
          },
          "metadata": {
            "tags": []
          },
          "execution_count": 45
        },
        {
          "output_type": "display_data",
          "data": {
            "image/png": "[encoded data removed]",
            "text/plain": [
              "<Figure size 1440x720 with 1 Axes>"
            ]
          },
          "metadata": {
            "tags": []
          }
        }
      ]
    },
    {
      "cell_type": "code",
      "metadata": {
        "id": "6eUgCOx0jRUH"
      },
      "source": [
        "from xgboost import XGBRegressor\n",
        "from math import sqrt\n",
        "XGB_model = XGBRegressor( \n",
        "          colsample_bytree=0.7, learning_rate=0.05, \n",
        "          max_depth=6, min_child_weight=4,  n_estimators=500,\n",
        "          nthread=4, objective='reg:linear', seed= 42,\n",
        "          reg_alpha=0, reg_lambda=1, \n",
        "          silent=True, subsample=0.7)"
      ],
      "execution_count": null,
      "outputs": []
    },
    {
      "cell_type": "code",
      "metadata": {
        "colab": {
          "base_uri": "https://localhost:8080/"
        },
        "id": "T1b1JZGRwUR1",
        "outputId": "c8bea27e-6a7c-4136-a11c-48b54bfdc257"
      },
      "source": [
        "XGB_model.fit(X_train,y_train)"
      ],
      "execution_count": null,
      "outputs": [
        {
          "output_type": "execute_result",
          "data": {
            "text/plain": [
              "XGBRegressor(base_score=0.5, booster='gbtree', colsample_bylevel=1,\n",
              "             colsample_bynode=1, colsample_bytree=0.7, gamma=0,\n",
              "             importance_type='gain', learning_rate=0.05, max_delta_step=0,\n",
              "             max_depth=6, min_child_weight=4, missing=None, n_estimators=500,\n",
              "             n_jobs=1, nthread=4, objective='reg:linear', random_state=0,\n",
              "             reg_alpha=0, reg_lambda=1, scale_pos_weight=1, seed=42,\n",
              "             silent=True, subsample=0.7, verbosity=1)"
            ]
          },
          "metadata": {
            "tags": []
          },
          "execution_count": 54
        }
      ]
    },
    {
      "cell_type": "code",
      "metadata": {
        "id": "89ArTW37wUwT"
      },
      "source": [
        "y_test_pred  = XGB_model.pred(X_test)"
      ],
      "execution_count": null,
      "outputs": []
    },
    {
      "cell_type": "code",
      "metadata": {
        "colab": {
          "base_uri": "https://localhost:8080/"
        },
        "id": "7UGJplpPxXW_",
        "outputId": "b8333b62-8a8c-4600-9d69-003911c75d25"
      },
      "source": [
        "print(\"XGB R2 : {}\".format(r2_score(y_test_pred,y_test)))\n",
        "print(\"XGB RMSE : {}\".format(mean_squared_error(y_test_pred,y_test, squared=False)))"
      ],
      "execution_count": null,
      "outputs": [
        {
          "output_type": "stream",
          "text": [
            "XGB R2 : 0.20802318395333308\n",
            "XGB RMSE : 20.261013273407414\n"
          ],
          "name": "stdout"
        }
      ]
    },
    {
      "cell_type": "code",
      "metadata": {
        "colab": {
          "base_uri": "https://localhost:8080/",
          "height": 553
        },
        "id": "0ut2odUmwUqN",
        "outputId": "b710b8d1-15c1-4e5f-9280-3f4075c08939"
      },
      "source": [
        "fig, ax = plt.subplots(figsize=(20,10))\n",
        "ax.title.set_text('XGB Plot')\n",
        "ax.scatter(X_test.index,y_test)\n",
        "ax.scatter(X_test.index,y_test_pred)\n",
        "ax.legend(['Actual','Predicted'])"
      ],
      "execution_count": null,
      "outputs": [
        {
          "output_type": "execute_result",
          "data": {
            "text/plain": [
              "<matplotlib.legend.Legend at 0x7f9110f3bcf8>"
            ]
          },
          "metadata": {
            "tags": []
          },
          "execution_count": 56
        },
        {
          "output_type": "display_data",
          "data": {
            "image/png": "[encoded data removed]",
            "text/plain": [
              "<Figure size 1440x720 with 1 Axes>"
            ]
          },
          "metadata": {
            "tags": []
          }
        }
      ]
    },
    {
      "cell_type": "code",
      "metadata": {
        "id": "cNGLbY69wUlN"
      },
      "source": [
        ""
      ],
      "execution_count": null,
      "outputs": []
    },
    {
      "cell_type": "code",
      "metadata": {
        "id": "HMl3AdtlwUfE"
      },
      "source": [
        ""
      ],
      "execution_count": null,
      "outputs": []
    },
    {
      "cell_type": "code",
      "metadata": {
        "id": "bp_wLuGnbM70"
      },
      "source": [
        "from sklearn.model_selection import cross_validate\n",
        "scores = cross_validate(XGB_model, X_train, y_train, cv=3,\n",
        "                        scoring=('r2', 'neg_root_mean_squared_error','neg_mean_absolute_error'),\n",
        "                        return_train_score=True)"
      ],
      "execution_count": null,
      "outputs": []
    },
    {
      "cell_type": "code",
      "metadata": {
        "colab": {
          "base_uri": "https://localhost:8080/"
        },
        "id": "48XPF-M8bNMx",
        "outputId": "4d4f0c16-84b8-41f0-c955-dfba0a178803"
      },
      "source": [
        "print(scores.keys())"
      ],
      "execution_count": null,
      "outputs": [
        {
          "output_type": "stream",
          "text": [
            "dict_keys(['fit_time', 'score_time', 'test_r2', 'train_r2', 'test_neg_root_mean_squared_error', 'train_neg_root_mean_squared_error', 'test_neg_mean_absolute_error', 'train_neg_mean_absolute_error'])\n"
          ],
          "name": "stdout"
        }
      ]
    },
    {
      "cell_type": "code",
      "metadata": {
        "colab": {
          "base_uri": "https://localhost:8080/"
        },
        "id": "vWRo0FypbNZN",
        "outputId": "4aae34d2-40c3-476f-9beb-38135eed28a3"
      },
      "source": [
        "print(scores)"
      ],
      "execution_count": null,
      "outputs": [
        {
          "output_type": "stream",
          "text": [
            "{'fit_time': array([20.86345434, 21.64402556, 21.26254058]), 'score_time': array([0.36699104, 0.34672713, 0.35594869]), 'test_r2': array([0.41525021, 0.28011817, 0.5417082 ]), 'train_r2': array([0.80311676, 0.8064169 , 0.81651519]), 'test_neg_root_mean_squared_error': array([-26.08326183, -23.5616152 , -16.4361953 ]), 'train_neg_root_mean_squared_error': array([-11.61387545, -13.21628099, -13.6811954 ]), 'test_neg_mean_absolute_error': array([-12.20713359,  -7.44037513,  -8.06721327]), 'train_neg_mean_absolute_error': array([-5.86036014, -7.34264472, -7.15969466])}\n"
          ],
          "name": "stdout"
        }
      ]
    },
    {
      "cell_type": "code",
      "metadata": {
        "colab": {
          "base_uri": "https://localhost:8080/"
        },
        "id": "cyox_HH0bNTX",
        "outputId": "a62c7615-0959-4607-8148-0516e1d7513f"
      },
      "source": [
        "XGB_model.fit(X_train, y_train)\n",
        "y_XGB_predict = XGB_model.predict(X_test[['POP_DEN_Sensor', 'AOD_Sensor', 'PRECIP_Sensor', 'NO2_Sensor',\n",
        "       'city_PRECIP', 'city_AOD', 'city_NO2', 'city_POP_DEN',\n",
        "       'average_population_density']])\n",
        "\n",
        "XGB_model_error = sqrt(mean_squared_error(y_test, y_XGB_predict)) \n",
        "\n",
        "print(f'XGBoost Mean Squared Error - {XGB_model_error}')"
      ],
      "execution_count": null,
      "outputs": [
        {
          "output_type": "stream",
          "text": [
            "XGBoost Mean Squared Error - 22.756882903326556\n"
          ],
          "name": "stdout"
        }
      ]
    },
    {
      "cell_type": "code",
      "metadata": {
        "id": "zAf6Uv51tUDY"
      },
      "source": [
        "val = pd.read_csv('filtered_sensor_with_city_county.csv')\n",
        "X_valid = val[['POP_DEN_Sensor', 'AOD_Sensor', 'PRECIP_Sensor', 'NO2_Sensor',\n",
        "       'city_PRECIP', 'city_AOD', 'city_NO2', 'city_POP_DEN',\n",
        "       'average_population_density','week','latitude_sensor','longitude_sensor']]\n",
        "X_valid = pd.concat([X_valid, X_test])\n",
        "X_valid = X_valid.dropna()\n",
        "z_valid = X_valid[['POP_DEN_Sensor', 'AOD_Sensor', 'PRECIP_Sensor', 'NO2_Sensor',\n",
        "       'city_PRECIP', 'city_AOD', 'city_NO2', 'city_POP_DEN',\n",
        "       'average_population_density']]"
      ],
      "execution_count": null,
      "outputs": []
    },
    {
      "cell_type": "code",
      "metadata": {
        "colab": {
          "base_uri": "https://localhost:8080/"
        },
        "id": "MPdSk79TulLT",
        "outputId": "eae8c5cd-e0e4-440a-df9c-66e06a49c2cb"
      },
      "source": [
        "z_valid.columns\n"
      ],
      "execution_count": null,
      "outputs": [
        {
          "output_type": "execute_result",
          "data": {
            "text/plain": [
              "Index(['POP_DEN_Sensor', 'AOD_Sensor', 'PRECIP_Sensor', 'NO2_Sensor',\n",
              "       'city_PRECIP', 'city_AOD', 'city_NO2', 'city_POP_DEN',\n",
              "       'average_population_density'],\n",
              "      dtype='object')"
            ]
          },
          "metadata": {
            "tags": []
          },
          "execution_count": 62
        }
      ]
    },
    {
      "cell_type": "code",
      "metadata": {
        "colab": {
          "base_uri": "https://localhost:8080/"
        },
        "id": "M_AR4VmsvAOc",
        "outputId": "56e4f8a6-0dd8-40f3-e895-4cde6560e88a"
      },
      "source": [
        "X_test.columns"
      ],
      "execution_count": null,
      "outputs": [
        {
          "output_type": "execute_result",
          "data": {
            "text/plain": [
              "Index(['POP_DEN_Sensor', 'AOD_Sensor', 'PRECIP_Sensor', 'NO2_Sensor',\n",
              "       'city_PRECIP', 'city_AOD', 'city_NO2', 'city_POP_DEN',\n",
              "       'average_population_density', 'week', 'latitude_sensor',\n",
              "       'longitude_sensor'],\n",
              "      dtype='object')"
            ]
          },
          "metadata": {
            "tags": []
          },
          "execution_count": 63
        }
      ]
    },
    {
      "cell_type": "code",
      "metadata": {
        "colab": {
          "base_uri": "https://localhost:8080/"
        },
        "id": "bUSnRLpbvHcd",
        "outputId": "2289e0ec-31ed-4743-8d16-aca0892cc14c"
      },
      "source": [
        "z_valid.shape"
      ],
      "execution_count": null,
      "outputs": [
        {
          "output_type": "execute_result",
          "data": {
            "text/plain": [
              "(187233, 9)"
            ]
          },
          "metadata": {
            "tags": []
          },
          "execution_count": 64
        }
      ]
    },
    {
      "cell_type": "code",
      "metadata": {
        "id": "Uln1PiBKvJ83"
      },
      "source": [
        "predd = reg.predict(z_valid.astype('float32'))"
      ],
      "execution_count": null,
      "outputs": []
    },
    {
      "cell_type": "code",
      "metadata": {
        "id": "UoBwpu_4vUZQ"
      },
      "source": [
        "X_valid['pm25_results'] = predd"
      ],
      "execution_count": null,
      "outputs": []
    },
    {
      "cell_type": "code",
      "metadata": {
        "colab": {
          "base_uri": "https://localhost:8080/",
          "height": 394
        },
        "id": "vi6A8QigvZCN",
        "outputId": "4539dfdf-6222-47bf-b475-6bf75a3552e9"
      },
      "source": [
        "X_valid.head()"
      ],
      "execution_count": null,
      "outputs": [
        {
          "output_type": "execute_result",
          "data": {
            "text/html": [
              "<div>\n",
              "<style scoped>\n",
              "    .dataframe tbody tr th:only-of-type {\n",
              "        vertical-align: middle;\n",
              "    }\n",
              "\n",
              "    .dataframe tbody tr th {\n",
              "        vertical-align: top;\n",
              "    }\n",
              "\n",
              "    .dataframe thead th {\n",
              "        text-align: right;\n",
              "    }\n",
              "</style>\n",
              "<table border=\"1\" class=\"dataframe\">\n",
              "  <thead>\n",
              "    <tr style=\"text-align: right;\">\n",
              "      <th></th>\n",
              "      <th>POP_DEN_Sensor</th>\n",
              "      <th>AOD_Sensor</th>\n",
              "      <th>PRECIP_Sensor</th>\n",
              "      <th>NO2_Sensor</th>\n",
              "      <th>city_PRECIP</th>\n",
              "      <th>city_AOD</th>\n",
              "      <th>city_NO2</th>\n",
              "      <th>city_POP_DEN</th>\n",
              "      <th>average_population_density</th>\n",
              "      <th>week</th>\n",
              "      <th>latitude_sensor</th>\n",
              "      <th>longitude_sensor</th>\n",
              "      <th>pm25_results</th>\n",
              "    </tr>\n",
              "  </thead>\n",
              "  <tbody>\n",
              "    <tr>\n",
              "      <th>0</th>\n",
              "      <td>57.378262</td>\n",
              "      <td>267.330997</td>\n",
              "      <td>0.004057</td>\n",
              "      <td>0.000048</td>\n",
              "      <td>0.005369</td>\n",
              "      <td>267.229064</td>\n",
              "      <td>0.000060</td>\n",
              "      <td>44.005589</td>\n",
              "      <td>447.588087</td>\n",
              "      <td>2020-01-07_2020-01-14</td>\n",
              "      <td>21.6472</td>\n",
              "      <td>84.8444</td>\n",
              "      <td>41.255717</td>\n",
              "    </tr>\n",
              "    <tr>\n",
              "      <th>1</th>\n",
              "      <td>57.378262</td>\n",
              "      <td>256.822159</td>\n",
              "      <td>0.000000</td>\n",
              "      <td>0.000050</td>\n",
              "      <td>0.001163</td>\n",
              "      <td>271.332195</td>\n",
              "      <td>0.000056</td>\n",
              "      <td>44.005589</td>\n",
              "      <td>447.588087</td>\n",
              "      <td>2020-01-14_2020-01-21</td>\n",
              "      <td>21.6472</td>\n",
              "      <td>84.8444</td>\n",
              "      <td>51.189405</td>\n",
              "    </tr>\n",
              "    <tr>\n",
              "      <th>2</th>\n",
              "      <td>57.378262</td>\n",
              "      <td>371.859848</td>\n",
              "      <td>0.000000</td>\n",
              "      <td>0.000040</td>\n",
              "      <td>0.001193</td>\n",
              "      <td>354.427989</td>\n",
              "      <td>0.000045</td>\n",
              "      <td>44.005589</td>\n",
              "      <td>447.588087</td>\n",
              "      <td>2020-01-21_2020-01-28</td>\n",
              "      <td>21.6472</td>\n",
              "      <td>84.8444</td>\n",
              "      <td>51.103524</td>\n",
              "    </tr>\n",
              "    <tr>\n",
              "      <th>3</th>\n",
              "      <td>57.378262</td>\n",
              "      <td>638.492436</td>\n",
              "      <td>0.000127</td>\n",
              "      <td>0.000033</td>\n",
              "      <td>0.001517</td>\n",
              "      <td>671.318141</td>\n",
              "      <td>0.000035</td>\n",
              "      <td>44.005589</td>\n",
              "      <td>447.588087</td>\n",
              "      <td>2020-01-28_2020-02-04</td>\n",
              "      <td>21.6472</td>\n",
              "      <td>84.8444</td>\n",
              "      <td>78.865507</td>\n",
              "    </tr>\n",
              "    <tr>\n",
              "      <th>4</th>\n",
              "      <td>57.378262</td>\n",
              "      <td>402.281250</td>\n",
              "      <td>0.014737</td>\n",
              "      <td>0.000028</td>\n",
              "      <td>0.010571</td>\n",
              "      <td>397.353205</td>\n",
              "      <td>0.000036</td>\n",
              "      <td>44.005589</td>\n",
              "      <td>447.588087</td>\n",
              "      <td>2020-02-04_2020-02-11</td>\n",
              "      <td>21.6472</td>\n",
              "      <td>84.8444</td>\n",
              "      <td>52.824735</td>\n",
              "    </tr>\n",
              "  </tbody>\n",
              "</table>\n",
              "</div>"
            ],
            "text/plain": [
              "   POP_DEN_Sensor  AOD_Sensor  ...  longitude_sensor  pm25_results\n",
              "0       57.378262  267.330997  ...           84.8444     41.255717\n",
              "1       57.378262  256.822159  ...           84.8444     51.189405\n",
              "2       57.378262  371.859848  ...           84.8444     51.103524\n",
              "3       57.378262  638.492436  ...           84.8444     78.865507\n",
              "4       57.378262  402.281250  ...           84.8444     52.824735\n",
              "\n",
              "[5 rows x 13 columns]"
            ]
          },
          "metadata": {
            "tags": []
          },
          "execution_count": 67
        }
      ]
    },
    {
      "cell_type": "code",
      "metadata": {
        "colab": {
          "base_uri": "https://localhost:8080/"
        },
        "id": "10pg667XmJ54",
        "outputId": "82ffbcf6-65df-4b13-c6d3-f3266822d2d8"
      },
      "source": [
        "X_train.average_population_density.unique()"
      ],
      "execution_count": null,
      "outputs": [
        {
          "output_type": "execute_result",
          "data": {
            "text/plain": [
              "array([  26.83302887,    3.05703522,   56.29091391,  447.58808746,\n",
              "        300.9828296 ,  168.14655846,   73.00944038,  147.71254322,\n",
              "         70.51324177,   32.02404337,  679.95145603, 1220.34856557,\n",
              "        126.16067515,  103.18771664,   80.63693517,  110.08638455,\n",
              "        104.74226227,   47.66241311,   20.3131532 ,   67.47187733,\n",
              "        190.85475241,   72.86791451,  208.90643864,  114.80215948,\n",
              "         73.49255499,   30.36476484,   65.95114807,  221.93194413,\n",
              "        112.83072735,  138.34256694,  126.50453872,  384.90229153,\n",
              "        269.95560732,  477.32803408,    6.58723482,  223.03463527,\n",
              "         43.06460981,   10.7822839 ,   15.99725758,   83.86596609,\n",
              "        138.14574743,   50.68799787,   12.82656136,   18.42181406,\n",
              "         81.37076958,   70.91517387,  102.60771625,  107.24825109,\n",
              "         31.99641576,    3.29967099])"
            ]
          },
          "metadata": {
            "tags": []
          },
          "execution_count": 58
        }
      ]
    },
    {
      "cell_type": "code",
      "metadata": {
        "colab": {
          "base_uri": "https://localhost:8080/"
        },
        "id": "meW0tJPbvvs6",
        "outputId": "1efddbd1-54dd-4ad2-9590-5023a4778241"
      },
      "source": [
        "from google.colab import drive\n",
        "drive.mount('/content/drive')"
      ],
      "execution_count": null,
      "outputs": [
        {
          "output_type": "stream",
          "text": [
            "Mounted at /content/drive\n"
          ],
          "name": "stdout"
        }
      ]
    },
    {
      "cell_type": "code",
      "metadata": {
        "id": "JoJQONeev5aE"
      },
      "source": [
        "X_valid.to_csv('/content/drive/My Drive/UNICEF/validation_results.csv')"
      ],
      "execution_count": null,
      "outputs": []
    },
    {
      "cell_type": "code",
      "metadata": {
        "id": "bXutcKNLwArw"
      },
      "source": [
        "df_peru = pd.read_csv('peru_sensor_city_merged_data_mar_aug.csv')"
      ],
      "execution_count": null,
      "outputs": []
    },
    {
      "cell_type": "code",
      "metadata": {
        "colab": {
          "base_uri": "https://localhost:8080/"
        },
        "id": "A4TmSIcMlXpO",
        "outputId": "f47dcb24-e724-434c-fa22-03e04b9b91de"
      },
      "source": [
        "df_peru.shape"
      ],
      "execution_count": null,
      "outputs": [
        {
          "output_type": "execute_result",
          "data": {
            "text/plain": [
              "(137, 13)"
            ]
          },
          "metadata": {
            "tags": []
          },
          "execution_count": 53
        }
      ]
    },
    {
      "cell_type": "code",
      "metadata": {
        "colab": {
          "base_uri": "https://localhost:8080/",
          "height": 394
        },
        "id": "wQPeNlqYlmQS",
        "outputId": "9176d1ca-259c-4675-b471-e8eddf025f72"
      },
      "source": [
        "df_peru.head()"
      ],
      "execution_count": null,
      "outputs": [
        {
          "output_type": "execute_result",
          "data": {
            "text/html": [
              "<div>\n",
              "<style scoped>\n",
              "    .dataframe tbody tr th:only-of-type {\n",
              "        vertical-align: middle;\n",
              "    }\n",
              "\n",
              "    .dataframe tbody tr th {\n",
              "        vertical-align: top;\n",
              "    }\n",
              "\n",
              "    .dataframe thead th {\n",
              "        text-align: right;\n",
              "    }\n",
              "</style>\n",
              "<table border=\"1\" class=\"dataframe\">\n",
              "  <thead>\n",
              "    <tr style=\"text-align: right;\">\n",
              "      <th></th>\n",
              "      <th>timestamp</th>\n",
              "      <th>PM25</th>\n",
              "      <th>latitude</th>\n",
              "      <th>longitude</th>\n",
              "      <th>week_x</th>\n",
              "      <th>PRECIP_Sensor</th>\n",
              "      <th>POP_DEN_Sensor</th>\n",
              "      <th>AOD_Sensor</th>\n",
              "      <th>NO2_Sensor</th>\n",
              "      <th>PRECIP_City</th>\n",
              "      <th>AOD_City</th>\n",
              "      <th>NO2_City</th>\n",
              "      <th>POP_DEN_City</th>\n",
              "    </tr>\n",
              "  </thead>\n",
              "  <tbody>\n",
              "    <tr>\n",
              "      <th>0</th>\n",
              "      <td>2020-03-17</td>\n",
              "      <td>16.140243</td>\n",
              "      <td>-12.1097</td>\n",
              "      <td>-77.0519</td>\n",
              "      <td>2020-03-17_2020-03-24</td>\n",
              "      <td>0.002912</td>\n",
              "      <td>5025.667969</td>\n",
              "      <td>101.842857</td>\n",
              "      <td>0.000021</td>\n",
              "      <td>0.005618</td>\n",
              "      <td>53.557736</td>\n",
              "      <td>0.000014</td>\n",
              "      <td>573.276428</td>\n",
              "    </tr>\n",
              "    <tr>\n",
              "      <th>1</th>\n",
              "      <td>2020-03-24</td>\n",
              "      <td>15.744527</td>\n",
              "      <td>-12.1097</td>\n",
              "      <td>-77.0519</td>\n",
              "      <td>2020-03-24_2020-03-31</td>\n",
              "      <td>0.015290</td>\n",
              "      <td>5025.667969</td>\n",
              "      <td>153.209375</td>\n",
              "      <td>0.000022</td>\n",
              "      <td>0.016425</td>\n",
              "      <td>83.177394</td>\n",
              "      <td>0.000016</td>\n",
              "      <td>573.276428</td>\n",
              "    </tr>\n",
              "    <tr>\n",
              "      <th>2</th>\n",
              "      <td>2020-03-31</td>\n",
              "      <td>15.615435</td>\n",
              "      <td>-12.1097</td>\n",
              "      <td>-77.0519</td>\n",
              "      <td>2020-03-31_2020-04-07</td>\n",
              "      <td>0.027365</td>\n",
              "      <td>5025.667969</td>\n",
              "      <td>147.629306</td>\n",
              "      <td>0.000023</td>\n",
              "      <td>0.017716</td>\n",
              "      <td>61.845249</td>\n",
              "      <td>0.000016</td>\n",
              "      <td>573.276428</td>\n",
              "    </tr>\n",
              "    <tr>\n",
              "      <th>3</th>\n",
              "      <td>2020-04-07</td>\n",
              "      <td>21.802438</td>\n",
              "      <td>-12.1097</td>\n",
              "      <td>-77.0519</td>\n",
              "      <td>2020-04-07_2020-04-14</td>\n",
              "      <td>0.000000</td>\n",
              "      <td>5025.667969</td>\n",
              "      <td>119.308542</td>\n",
              "      <td>0.000021</td>\n",
              "      <td>0.000322</td>\n",
              "      <td>63.577451</td>\n",
              "      <td>0.000014</td>\n",
              "      <td>573.276428</td>\n",
              "    </tr>\n",
              "    <tr>\n",
              "      <th>4</th>\n",
              "      <td>2020-04-14</td>\n",
              "      <td>19.419179</td>\n",
              "      <td>-12.1097</td>\n",
              "      <td>-77.0519</td>\n",
              "      <td>2020-04-14_2020-04-21</td>\n",
              "      <td>0.000042</td>\n",
              "      <td>5025.667969</td>\n",
              "      <td>69.069129</td>\n",
              "      <td>0.000022</td>\n",
              "      <td>0.000448</td>\n",
              "      <td>34.772960</td>\n",
              "      <td>0.000016</td>\n",
              "      <td>573.276428</td>\n",
              "    </tr>\n",
              "  </tbody>\n",
              "</table>\n",
              "</div>"
            ],
            "text/plain": [
              "    timestamp       PM25  latitude  ...   AOD_City  NO2_City  POP_DEN_City\n",
              "0  2020-03-17  16.140243  -12.1097  ...  53.557736  0.000014    573.276428\n",
              "1  2020-03-24  15.744527  -12.1097  ...  83.177394  0.000016    573.276428\n",
              "2  2020-03-31  15.615435  -12.1097  ...  61.845249  0.000016    573.276428\n",
              "3  2020-04-07  21.802438  -12.1097  ...  63.577451  0.000014    573.276428\n",
              "4  2020-04-14  19.419179  -12.1097  ...  34.772960  0.000016    573.276428\n",
              "\n",
              "[5 rows x 13 columns]"
            ]
          },
          "metadata": {
            "tags": []
          },
          "execution_count": 54
        }
      ]
    },
    {
      "cell_type": "code",
      "metadata": {
        "colab": {
          "base_uri": "https://localhost:8080/"
        },
        "id": "ImX8M3sjlrjL",
        "outputId": "3f80367a-ee4a-428e-c132-31da22da8af5"
      },
      "source": [
        "df_peru.columns"
      ],
      "execution_count": null,
      "outputs": [
        {
          "output_type": "execute_result",
          "data": {
            "text/plain": [
              "Index(['timestamp', 'PM25', 'latitude', 'longitude', 'week_x', 'PRECIP_Sensor',\n",
              "       'POP_DEN_Sensor', 'AOD_Sensor', 'NO2_Sensor', 'PRECIP_City', 'AOD_City',\n",
              "       'NO2_City', 'POP_DEN_City'],\n",
              "      dtype='object')"
            ]
          },
          "metadata": {
            "tags": []
          },
          "execution_count": 55
        }
      ]
    },
    {
      "cell_type": "code",
      "metadata": {
        "colab": {
          "base_uri": "https://localhost:8080/"
        },
        "id": "ydQ1RlsglaU0",
        "outputId": "2baf34ac-d0b7-447d-e7f1-26ad4add2909"
      },
      "source": [
        "df_peru_train = df_peru[['PRECIP_Sensor','POP_DEN_Sensor', 'AOD_Sensor', \n",
        "                         'NO2_Sensor', 'PRECIP_City', 'AOD_City',\n",
        "                         'NO2_City', 'POP_DEN_City']]"
      ],
      "execution_count": null,
      "outputs": [
        {
          "output_type": "error",
          "ename": "NameError",
          "evalue": "ignored",
          "traceback": [
            "\u001b[0;31m---------------------------------------------------------------------------\u001b[0m",
            "\u001b[0;31mNameError\u001b[0m                                 Traceback (most recent call last)",
            "\u001b[0;32m<ipython-input-1-27ba6d45b87e>\u001b[0m in \u001b[0;36m<module>\u001b[0;34m()\u001b[0m\n\u001b[0;32m----> 1\u001b[0;31m df_peru_train = df_peru[['PRECIP_Sensor','POP_DEN_Sensor', 'AOD_Sensor', \n\u001b[0m\u001b[1;32m      2\u001b[0m                          \u001b[0;34m'NO2_Sensor'\u001b[0m\u001b[0;34m,\u001b[0m \u001b[0;34m'PRECIP_City'\u001b[0m\u001b[0;34m,\u001b[0m \u001b[0;34m'AOD_City'\u001b[0m\u001b[0;34m,\u001b[0m\u001b[0;34m\u001b[0m\u001b[0;34m\u001b[0m\u001b[0m\n\u001b[1;32m      3\u001b[0m                          'NO2_City', 'POP_DEN_City']]\n",
            "\u001b[0;31mNameError\u001b[0m: name 'df_peru' is not defined"
          ]
        }
      ]
    },
    {
      "cell_type": "code",
      "metadata": {
        "id": "QnjG3MfQ3NYa"
      },
      "source": [
        "from sklearn.model_selection import GridSearchCV\n",
        "from sklearn.metrics import r2_score\n",
        "\n",
        "def algorithm_pipeline(X_train_data, X_test_data, y_train_data, y_test_data, \n",
        "                       model, param_grid, cv=10, scoring_fit='neg_mean_squared_error',\n",
        "                       scoring_test=r2_score, do_probabilities = False):\n",
        "    gs = GridSearchCV(\n",
        "        estimator=model,\n",
        "        param_grid=param_grid, \n",
        "        cv=cv, \n",
        "        n_jobs=-1, \n",
        "        scoring=scoring_fit,\n",
        "        verbose=2\n",
        "    )\n",
        "    fitted_model = gs.fit(X_train_data, y_train_data)\n",
        "    best_model = fitted_model.best_estimator_\n",
        "    \n",
        "    if do_probabilities:\n",
        "      pred = fitted_model.predict_proba(X_test_data)\n",
        "    else:\n",
        "      pred = fitted_model.predict(X_test_data)\n",
        "    \n",
        "    score = scoring_test(y_test_data, pred)\n",
        "    \n",
        "    return [best_model, pred, score]"
      ],
      "execution_count": null,
      "outputs": []
    },
    {
      "cell_type": "code",
      "metadata": {
        "id": "R2-uOBa9xEUR"
      },
      "source": [
        "from sklearn.ensemble import RandomForestRegressor\n",
        "from lightgbm import LGBMRegressor\n",
        "from xgboost import XGBRegressor\n",
        "\n",
        "# Defining our estimator, the algorithm to optimize\n",
        "models_to_train = [XGBRegressor(), LGBMRegressor(), RandomForestRegressor()]\n",
        "\n",
        "# Defining the hyperparameters to optimize\n",
        "grid_parameters = [\n",
        "    { # XGBoost\n",
        "        'n_estimators': [400, 700, 1000],\n",
        "        'colsample_bytree': [0.7, 0.8],\n",
        "        'max_depth': [15,20,25],\n",
        "        'reg_alpha': [1.1, 1.2, 1.3],\n",
        "        'reg_lambda': [1.1, 1.2, 1.3],\n",
        "        'subsample': [0.7, 0.8, 0.9]\n",
        "    },\n",
        "    { # LightGBM\n",
        "        'n_estimators': [400, 700, 1000],\n",
        "        'learning_rate': [0.12],\n",
        "        'colsample_bytree': [0.7, 0.8],\n",
        "        'max_depth': [4],\n",
        "        'num_leaves': [10, 20],\n",
        "        'reg_alpha': [1.1, 1.2],\n",
        "        'reg_lambda': [1.1, 1.2],\n",
        "        'min_split_gain': [0.3, 0.4],\n",
        "        'subsample': [0.8, 0.9],\n",
        "        'subsample_freq': [10, 20]\n",
        "    }, \n",
        "    { # Random Forest\n",
        "        'max_depth':[3, 5, 10, 13], \n",
        "        'n_estimators':[100, 200, 400, 600, 900],\n",
        "        'max_features':[2, 4, 6, 8, 10]\n",
        "    }\n",
        "]"
      ],
      "execution_count": null,
      "outputs": []
    },
    {
      "cell_type": "code",
      "metadata": {
        "colab": {
          "base_uri": "https://localhost:8080/"
        },
        "id": "HD1vR77AxKN6",
        "outputId": "a194d96e-1bdf-4aa6-c0bc-358028781f0e"
      },
      "source": [
        "models_preds_scores = []\n",
        "\n",
        "for i, model in enumerate(models_to_train):\n",
        "    params = grid_parameters[i]\n",
        "    \n",
        "    result = algorithm_pipeline(X_train, X_test, y_train, y_test, \n",
        "                                 model, params, cv=2)\n",
        "    models_preds_scores.append(result)"
      ],
      "execution_count": null,
      "outputs": [
        {
          "output_type": "stream",
          "text": [
            "Fitting 2 folds for each of 486 candidates, totalling 972 fits\n"
          ],
          "name": "stdout"
        },
        {
          "output_type": "stream",
          "text": [
            "[Parallel(n_jobs=-1)]: Using backend LokyBackend with 2 concurrent workers.\n",
            "[Parallel(n_jobs=-1)]: Done  37 tasks      | elapsed: 18.9min\n"
          ],
          "name": "stderr"
        }
      ]
    },
    {
      "cell_type": "code",
      "metadata": {
        "id": "UCWqF9SIxq_I"
      },
      "source": [
        "for result in models_preds_scores:\n",
        "    print('Model: {0}, Score: {1}'.format(type(result[0]).__name__, result[2]))"
      ],
      "execution_count": null,
      "outputs": []
    },
    {
      "cell_type": "code",
      "metadata": {
        "id": "bBvKRKtj4AUh"
      },
      "source": [
        "from mlxtend.regressor import StackingCVRegressor\n",
        "from sklearn.linear_model import Ridge, Lasso\n",
        "from sklearn.svm import SVR\n",
        "from sklearn.ensemble import RandomForestRegressor\n",
        "from lightgbm import LGBMRegressor\n",
        "from xgboost import XGBRegressor\n",
        "\n",
        "xgb = XGBRegressor()\n",
        "lgbm = LGBMRegressor()\n",
        "rf = RandomForestRegressor()\n",
        "ridge = Ridge()\n",
        "lasso = Lasso()\n",
        "svr = SVR(kernel='linear')"
      ],
      "execution_count": null,
      "outputs": []
    },
    {
      "cell_type": "code",
      "metadata": {
        "colab": {
          "base_uri": "https://localhost:8080/",
          "height": 232
        },
        "id": "R6UpVj434MvO",
        "outputId": "b832563d-4211-4340-ce02-0747fe9d4e10"
      },
      "source": [
        "stack = StackingCVRegressor(regressors=(ridge, lasso, svr, rf, lgbm, xgb),\n",
        "                            meta_regressor=xgb, cv=12,\n",
        "                            use_features_in_secondary=True,\n",
        "                            store_train_meta_features=True,\n",
        "                            shuffle=True,\n",
        "                            )\n",
        "\n",
        "stack.fit(X_train, y_train)"
      ],
      "execution_count": null,
      "outputs": [
        {
          "output_type": "error",
          "ename": "TypeError",
          "evalue": "ignored",
          "traceback": [
            "\u001b[0;31m---------------------------------------------------------------------------\u001b[0m",
            "\u001b[0;31mTypeError\u001b[0m                                 Traceback (most recent call last)",
            "\u001b[0;32m<ipython-input-68-08c2527bf70a>\u001b[0m in \u001b[0;36m<module>\u001b[0;34m()\u001b[0m\n\u001b[1;32m      4\u001b[0m                             \u001b[0mstore_train_meta_features\u001b[0m\u001b[0;34m=\u001b[0m\u001b[0;32mTrue\u001b[0m\u001b[0;34m,\u001b[0m\u001b[0;34m\u001b[0m\u001b[0;34m\u001b[0m\u001b[0m\n\u001b[1;32m      5\u001b[0m                             \u001b[0mshuffle\u001b[0m\u001b[0;34m=\u001b[0m\u001b[0;32mTrue\u001b[0m\u001b[0;34m,\u001b[0m\u001b[0;34m\u001b[0m\u001b[0;34m\u001b[0m\u001b[0m\n\u001b[0;32m----> 6\u001b[0;31m                             random_state=42)\n\u001b[0m\u001b[1;32m      7\u001b[0m \u001b[0;34m\u001b[0m\u001b[0m\n\u001b[1;32m      8\u001b[0m \u001b[0mstack\u001b[0m\u001b[0;34m.\u001b[0m\u001b[0mfit\u001b[0m\u001b[0;34m(\u001b[0m\u001b[0mX_train\u001b[0m\u001b[0;34m,\u001b[0m \u001b[0my_train\u001b[0m\u001b[0;34m)\u001b[0m\u001b[0;34m\u001b[0m\u001b[0;34m\u001b[0m\u001b[0m\n",
            "\u001b[0;31mTypeError\u001b[0m: __init__() got an unexpected keyword argument 'random_state'"
          ]
        }
      ]
    },
    {
      "cell_type": "code",
      "metadata": {
        "colab": {
          "base_uri": "https://localhost:8080/",
          "height": 164
        },
        "id": "2LMEeDC34RYn",
        "outputId": "f6af8dac-2f64-4377-c62c-6ff80b3ae7ef"
      },
      "source": [
        "X.columns"
      ],
      "execution_count": null,
      "outputs": [
        {
          "output_type": "error",
          "ename": "AttributeError",
          "evalue": "ignored",
          "traceback": [
            "\u001b[0;31m---------------------------------------------------------------------------\u001b[0m",
            "\u001b[0;31mAttributeError\u001b[0m                            Traceback (most recent call last)",
            "\u001b[0;32m<ipython-input-41-901c1061bf7c>\u001b[0m in \u001b[0;36m<module>\u001b[0;34m()\u001b[0m\n\u001b[0;32m----> 1\u001b[0;31m \u001b[0mX\u001b[0m\u001b[0;34m.\u001b[0m\u001b[0mcolumns\u001b[0m\u001b[0;34m\u001b[0m\u001b[0;34m\u001b[0m\u001b[0m\n\u001b[0m",
            "\u001b[0;31mAttributeError\u001b[0m: 'numpy.ndarray' object has no attribute 'columns'"
          ]
        }
      ]
    },
    {
      "cell_type": "code",
      "metadata": {
        "id": "8nR5sn3bBzfx"
      },
      "source": [
        ""
      ],
      "execution_count": null,
      "outputs": []
    }
  ]
}