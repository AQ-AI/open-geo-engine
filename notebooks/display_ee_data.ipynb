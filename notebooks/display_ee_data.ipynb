{
 "cells": [
  {
   "cell_type": "code",
   "execution_count": null,
   "metadata": {},
   "outputs": [],
   "source": [
    "from IPython.display import Image\n"
   ]
  },
  {
   "cell_type": "code",
   "execution_count": 1,
   "metadata": {},
   "outputs": [
    {
     "data": {
      "text/html": [
       "<p>To authorize access needed by Earth Engine, open the following\n",
       "        URL in a web browser and follow the instructions:</p>\n",
       "        <p><a href=https://code.earthengine.google.com/client-auth?scopes=https%3A//www.googleapis.com/auth/earthengine%20https%3A//www.googleapis.com/auth/devstorage.full_control&request_id=4f1pJe7ahK1YRNR6jVYoPQrwKve07BuTgQYbgZ8e2BE&tc=FECU0sFuTLn-J2fhqT2PvrX90A8NyufG6pgG0mFmSXU&cc=PL1dydUvqeNj6fe6qh9EIjtg8ok85X_fMndpJ4IkIlc>https://code.earthengine.google.com/client-auth?scopes=https%3A//www.googleapis.com/auth/earthengine%20https%3A//www.googleapis.com/auth/devstorage.full_control&request_id=4f1pJe7ahK1YRNR6jVYoPQrwKve07BuTgQYbgZ8e2BE&tc=FECU0sFuTLn-J2fhqT2PvrX90A8NyufG6pgG0mFmSXU&cc=PL1dydUvqeNj6fe6qh9EIjtg8ok85X_fMndpJ4IkIlc</a></p>\n",
       "        <p>The authorization workflow will generate a code, which you\n",
       "        should paste in the box below</p>\n",
       "        "
      ],
      "text/plain": [
       "<IPython.core.display.HTML object>"
      ]
     },
     "metadata": {},
     "output_type": "display_data"
    }
   ],
   "source": [
    "import ee\n",
    "\n",
    "# Trigger the authentication flow.\n",
    "ee.Authenticate()\n",
    "\n",
    "# Initialize the library.\n",
    "ee.Initialize()"
   ]
  },
  {
   "cell_type": "markdown",
   "metadata": {},
   "source": []
  },
  {
   "cell_type": "code",
   "execution_count": null,
   "metadata": {},
   "outputs": [],
   "source": [
    "\n",
    "# Create a URL to the styled image for a region around France.\n",
    "url = lst_img.getThumbUrl({\n",
    "    'min': 10, 'max': 30, 'dimensions': 512, 'region': roi,\n",
    "    'palette': ['blue', 'yellow', 'orange', 'red']})\n",
    "print(url)\n",
    "\n",
    "# Display the thumbnail land surface temperature in France.\n",
    "print('\\nPlease wait while the thumbnail loads, it may take a moment...')\n",
    "Image(url=url)"
   ]
  },
  {
   "cell_type": "markdown",
   "metadata": {},
   "source": []
  },
  {
   "cell_type": "code",
   "execution_count": null,
   "metadata": {},
   "outputs": [],
   "source": [
    "geom = ee.Algorithms.GeometryConstructors.BBox(-89.2291216703, 15.8869375676, -88.1068129138, 18.4999822047)"
   ]
  },
  {
   "cell_type": "code",
   "execution_count": null,
   "metadata": {},
   "outputs": [],
   "source": []
  }
 ],
 "metadata": {
  "kernelspec": {
   "display_name": "Python 3",
   "language": "python",
   "name": "python3"
  },
  "language_info": {
   "codemirror_mode": {
    "name": "ipython",
    "version": 3
   },
   "file_extension": ".py",
   "mimetype": "text/x-python",
   "name": "python",
   "nbconvert_exporter": "python",
   "pygments_lexer": "ipython3",
   "version": "3.9.13"
  },
  "vscode": {
   "interpreter": {
    "hash": "81a16f88cd0cd336cb6968f7701664eec3a7d143fdb9239107acc26c3b4d4b70"
   }
  }
 },
 "nbformat": 4,
 "nbformat_minor": 2
}
